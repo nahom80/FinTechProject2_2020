{
 "cells": [
  {
   "cell_type": "markdown",
   "metadata": {},
   "source": [
    "# Google Big Query Basics - Reddit example\n",
    "#### Sources; \n",
    "    https://towardsdatascience.com/scrape-reddit-data-using-python-and-google-bigquery-44180b579892\n",
    "    https://google-cloud-python.readthedocs.io/en/0.32.0/bigquery/usage.html\n",
    "    https://cloud.google.com/docs/authentication/getting-started\n",
    "    https://www.blendo.co/blog/access-data-google-bigquery-python-r/\n",
    "    https://cloud.google.com/bigquery/docs/bigquery-storage-python-pandas\n",
    "    \n",
    "### Python installs\n",
    "    pip install google-cloud\n",
    "    pip install --upgrade google-cloud-bigquery\n",
    "    \n",
    "### Authentication\n",
    "OAuth with Google Projects JSON\n",
    "    \n",
    "    You need to setup a service account for the particular project associated with the BigQuery discussed here:\n",
    "    https://towardsdatascience.com/scrape-reddit-data-using-python-and-google-bigquery-44180b579892\n",
    "    \n",
    "    After getting familiar with using BigQuery from the example above start by clicking the link below. It will guide you on how to setup a service account and download a JSON file associated with it. Make sure you specify the proper project name ( Your google project name ) as well as the permissions\n",
    "    \n",
    "    https://console.cloud.google.com/apis/credentials/serviceaccountkey?_ga=2.139442999.543651156.1586710225-978365429.1586617633\n",
    "\n",
    "after downloading the JSON make it available ( the path ) to your script via environmental var.\n",
    "\n",
    "![](Images\\BigQueryTut01.png)\n",
    "    \n",
    "    "
   ]
  },
  {
   "cell_type": "code",
   "execution_count": 65,
   "metadata": {},
   "outputs": [],
   "source": [
    "import os\n",
    "import pandas as pd\n",
    "#pathToJSON = os.getenv('GOOGLEJSON')\n",
    "\n"
   ]
  },
  {
   "cell_type": "code",
   "execution_count": 66,
   "metadata": {},
   "outputs": [],
   "source": [
    "from google.cloud import bigquery\n",
    "from google.oauth2 import service_account\n",
    "credentials = service_account.Credentials.from_service_account_file(pathToJSON)\n",
    "project_id = 'vivid-cargo-273915'\n",
    "client = bigquery.Client(credentials= credentials,project=project_id)"
   ]
  },
  {
   "cell_type": "code",
   "execution_count": 67,
   "metadata": {},
   "outputs": [
    {
     "data": {
      "text/plain": [
       "<bound method Client.query of <google.cloud.bigquery.client.Client object at 0x000002A399FD2288>>"
      ]
     },
     "execution_count": 67,
     "metadata": {},
     "output_type": "execute_result"
    }
   ],
   "source": [
    "client.query"
   ]
  },
  {
   "cell_type": "code",
   "execution_count": 68,
   "metadata": {},
   "outputs": [],
   "source": [
    " \n",
    "qString = \"\"\"\n",
    "    select subreddit,created_utc,selftext\n",
    "from `fh-bigquery.reddit_posts.2019_07`\n",
    "where\n",
    "  ( upper(subreddit) = 'STELLAR')\n",
    "  and\n",
    "  ( selftext <> '[deleted]' and selftext <> '[removed]' and selftext <> '' )\n",
    "  LIMIT 10\n",
    "\"\"\""
   ]
  },
  {
   "cell_type": "code",
   "execution_count": 69,
   "metadata": {},
   "outputs": [],
   "source": [
    "query_job = client.query(qString)\n",
    "results = query_job.result()  # Waits for job to complete."
   ]
  },
  {
   "cell_type": "code",
   "execution_count": 70,
   "metadata": {},
   "outputs": [
    {
     "data": {
      "text/plain": [
       "<google.cloud.bigquery.table.RowIterator at 0x2a399fc2e08>"
      ]
     },
     "execution_count": 70,
     "metadata": {},
     "output_type": "execute_result"
    }
   ],
   "source": [
    "results"
   ]
  },
  {
   "cell_type": "code",
   "execution_count": null,
   "metadata": {},
   "outputs": [],
   "source": []
  },
  {
   "cell_type": "code",
   "execution_count": 71,
   "metadata": {
    "scrolled": true
   },
   "outputs": [],
   "source": [
    "# Since the return is a python \"RowIterator\" you must capture each row at the time of iteration. ( cannot reset and reiterate)\n",
    "\n",
    "listOfResults = []\n",
    "for row in results:\n",
    "    listOfResults.append(row)"
   ]
  },
  {
   "cell_type": "code",
   "execution_count": 81,
   "metadata": {},
   "outputs": [
    {
     "data": {
      "text/plain": [
       "google.cloud.bigquery.table.Row"
      ]
     },
     "execution_count": 81,
     "metadata": {},
     "output_type": "execute_result"
    }
   ],
   "source": [
    "listOfResults"
   ]
  },
  {
   "cell_type": "code",
   "execution_count": 74,
   "metadata": {},
   "outputs": [
    {
     "data": {
      "text/plain": [
       "10"
      ]
     },
     "execution_count": 74,
     "metadata": {},
     "output_type": "execute_result"
    }
   ],
   "source": [
    "results.total_rows"
   ]
  },
  {
   "cell_type": "code",
   "execution_count": 89,
   "metadata": {},
   "outputs": [
    {
     "data": {
      "text/plain": [
       "'Stellar'"
      ]
     },
     "execution_count": 89,
     "metadata": {},
     "output_type": "execute_result"
    }
   ],
   "source": [
    "#Returns the first column in the row. In this case subreddit name.\n",
    "listOfResults[0][0]"
   ]
  },
  {
   "cell_type": "code",
   "execution_count": 90,
   "metadata": {},
   "outputs": [
    {
     "data": {
      "text/plain": [
       "1564291808"
      ]
     },
     "execution_count": 90,
     "metadata": {},
     "output_type": "execute_result"
    }
   ],
   "source": [
    "#Returns the second column in the row. In this case UTC time name.\n",
    "listOfResults[0][1]\n"
   ]
  },
  {
   "cell_type": "code",
   "execution_count": 103,
   "metadata": {},
   "outputs": [
    {
     "data": {
      "text/plain": [
       "'I was thinking about the social network that went bankrupt TSU and that was with 10% of the revenue of the ads and the rest was divided equally between the user and the Family Tree - that is, the group of people that invited you to the social network. user was paid for the number of views each post (not for likes or comments). The more people you invited, the more money you could earn - hence the resemblance to a financial pyramid.\\n\\nYou could also donate your money to charities, for example.\\n\\n\\xa0Since Stellar has billion in XLM, a person in a social network made by the SDF could get through their posts and have access to their entire ecosystem as money transfer and as we are already the most efficient in the world in my opinion in remittances the withdrawal would be through institutions with coins anchored by Wires or similar!\\n\\n\\xa0Each person could receive 20 invitations a day and get Stroopers for each accepted! 20 people would give a total of 1 xlm! Then we would receive content generated by us and our offspring and if in Coinbase you get to learn about STELLAR, you would also receive free gifts for watching videos about how it works of course in a much smaller amount than those offered in those 10 dollars in nowadays! Something like 1 XLM will be a good incentive for video and little by little anyone who does not have XLM would be joining and learning how to exchange, buy or deposit money for XLM and a payment application associated with your account (wallet) would be perfect for us see STELLAR grow and the network would be able to keep up with announcements and commissions on product sales and other more incomes! It may be that what I posted is of nothing but I think that is what we lack! If anyone has any better ideas please post and apologize for any errors since I am using Google Translate! Good weekend to everyone!'"
      ]
     },
     "execution_count": 103,
     "metadata": {},
     "output_type": "execute_result"
    }
   ],
   "source": [
    "#Returns the second column in the row. In this case the body of the post ( selftext )\n",
    "listOfResults[4][2]"
   ]
  },
  {
   "cell_type": "code",
   "execution_count": null,
   "metadata": {},
   "outputs": [],
   "source": []
  }
 ],
 "metadata": {
  "kernelspec": {
   "display_name": "Python 3",
   "language": "python",
   "name": "python3"
  },
  "language_info": {
   "codemirror_mode": {
    "name": "ipython",
    "version": 3
   },
   "file_extension": ".py",
   "mimetype": "text/x-python",
   "name": "python",
   "nbconvert_exporter": "python",
   "pygments_lexer": "ipython3",
   "version": "3.7.4"
  }
 },
 "nbformat": 4,
 "nbformat_minor": 2
}
