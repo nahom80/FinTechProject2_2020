{
 "cells": [
  {
   "cell_type": "code",
   "execution_count": 3,
   "metadata": {},
   "outputs": [],
   "source": [
    "from pathlib import Path \n",
    "import pandas as pd \n",
    "import numpy as np \n",
    "from datetime import datetime\n",
    "import hvplot.pandas \n",
    "import panel as pn "
   ]
  },
  {
   "cell_type": "code",
   "execution_count": 4,
   "metadata": {},
   "outputs": [
    {
     "data": {
      "text/html": [
       "<div>\n",
       "<style scoped>\n",
       "    .dataframe tbody tr th:only-of-type {\n",
       "        vertical-align: middle;\n",
       "    }\n",
       "\n",
       "    .dataframe tbody tr th {\n",
       "        vertical-align: top;\n",
       "    }\n",
       "\n",
       "    .dataframe thead th {\n",
       "        text-align: right;\n",
       "    }\n",
       "</style>\n",
       "<table border=\"1\" class=\"dataframe\">\n",
       "  <thead>\n",
       "    <tr style=\"text-align: right;\">\n",
       "      <th></th>\n",
       "      <th>Price</th>\n",
       "      <th>Daily_Returns</th>\n",
       "    </tr>\n",
       "    <tr>\n",
       "      <th>Date</th>\n",
       "      <th></th>\n",
       "      <th></th>\n",
       "    </tr>\n",
       "  </thead>\n",
       "  <tbody>\n",
       "    <tr>\n",
       "      <th>2020-04-11</th>\n",
       "      <td>6867.8</td>\n",
       "      <td>0.0007</td>\n",
       "    </tr>\n",
       "    <tr>\n",
       "      <th>2020-04-12</th>\n",
       "      <td>6917.6</td>\n",
       "      <td>0.0073</td>\n",
       "    </tr>\n",
       "    <tr>\n",
       "      <th>2020-04-13</th>\n",
       "      <td>6841.3</td>\n",
       "      <td>-0.0110</td>\n",
       "    </tr>\n",
       "    <tr>\n",
       "      <th>2020-04-14</th>\n",
       "      <td>6850.9</td>\n",
       "      <td>0.0014</td>\n",
       "    </tr>\n",
       "    <tr>\n",
       "      <th>2020-04-15</th>\n",
       "      <td>6736.9</td>\n",
       "      <td>-0.0166</td>\n",
       "    </tr>\n",
       "  </tbody>\n",
       "</table>\n",
       "</div>"
      ],
      "text/plain": [
       "             Price  Daily_Returns\n",
       "Date                             \n",
       "2020-04-11  6867.8         0.0007\n",
       "2020-04-12  6917.6         0.0073\n",
       "2020-04-13  6841.3        -0.0110\n",
       "2020-04-14  6850.9         0.0014\n",
       "2020-04-15  6736.9        -0.0166"
      ]
     },
     "execution_count": 4,
     "metadata": {},
     "output_type": "execute_result"
    }
   ],
   "source": [
    "bitcoin_df = pd.read_csv(Path('Resources/Bitcoin Historical Data - Investing.com.csv'), parse_dates=True, \n",
    "                         infer_datetime_format=True, index_col = 'Date').sort_index()\n",
    "bitcoin_df.tail()"
   ]
  },
  {
   "cell_type": "code",
   "execution_count": 5,
   "metadata": {},
   "outputs": [
    {
     "data": {
      "text/html": [
       "<div>\n",
       "<style scoped>\n",
       "    .dataframe tbody tr th:only-of-type {\n",
       "        vertical-align: middle;\n",
       "    }\n",
       "\n",
       "    .dataframe tbody tr th {\n",
       "        vertical-align: top;\n",
       "    }\n",
       "\n",
       "    .dataframe thead th {\n",
       "        text-align: right;\n",
       "    }\n",
       "</style>\n",
       "<table border=\"1\" class=\"dataframe\">\n",
       "  <thead>\n",
       "    <tr style=\"text-align: right;\">\n",
       "      <th></th>\n",
       "      <th>Price</th>\n",
       "      <th>Daily_Returns</th>\n",
       "    </tr>\n",
       "    <tr>\n",
       "      <th>Date</th>\n",
       "      <th></th>\n",
       "      <th></th>\n",
       "    </tr>\n",
       "  </thead>\n",
       "  <tbody>\n",
       "    <tr>\n",
       "      <th>2015-01-01</th>\n",
       "      <td>314.9</td>\n",
       "      <td>-0.0105</td>\n",
       "    </tr>\n",
       "    <tr>\n",
       "      <th>2015-01-02</th>\n",
       "      <td>315.2</td>\n",
       "      <td>0.0010</td>\n",
       "    </tr>\n",
       "    <tr>\n",
       "      <th>2015-01-03</th>\n",
       "      <td>287.1</td>\n",
       "      <td>-0.0891</td>\n",
       "    </tr>\n",
       "    <tr>\n",
       "      <th>2015-01-04</th>\n",
       "      <td>264.7</td>\n",
       "      <td>-0.0780</td>\n",
       "    </tr>\n",
       "    <tr>\n",
       "      <th>2015-01-05</th>\n",
       "      <td>274.8</td>\n",
       "      <td>0.0382</td>\n",
       "    </tr>\n",
       "  </tbody>\n",
       "</table>\n",
       "</div>"
      ],
      "text/plain": [
       "            Price  Daily_Returns\n",
       "Date                            \n",
       "2015-01-01  314.9        -0.0105\n",
       "2015-01-02  315.2         0.0010\n",
       "2015-01-03  287.1        -0.0891\n",
       "2015-01-04  264.7        -0.0780\n",
       "2015-01-05  274.8         0.0382"
      ]
     },
     "execution_count": 5,
     "metadata": {},
     "output_type": "execute_result"
    }
   ],
   "source": [
    "bitcoin_df.head()"
   ]
  },
  {
   "cell_type": "code",
   "execution_count": 6,
   "metadata": {},
   "outputs": [],
   "source": [
    "bitcoin_df['Volatility'] = bitcoin_df.Daily_Returns.rolling(window=30).std()\n",
    "bitcoin_df.dropna(inplace=True)"
   ]
  },
  {
   "cell_type": "code",
   "execution_count": 7,
   "metadata": {},
   "outputs": [
    {
     "data": {
      "text/html": [
       "<div>\n",
       "<style scoped>\n",
       "    .dataframe tbody tr th:only-of-type {\n",
       "        vertical-align: middle;\n",
       "    }\n",
       "\n",
       "    .dataframe tbody tr th {\n",
       "        vertical-align: top;\n",
       "    }\n",
       "\n",
       "    .dataframe thead th {\n",
       "        text-align: right;\n",
       "    }\n",
       "</style>\n",
       "<table border=\"1\" class=\"dataframe\">\n",
       "  <thead>\n",
       "    <tr style=\"text-align: right;\">\n",
       "      <th></th>\n",
       "      <th>Price</th>\n",
       "      <th>Daily_Returns</th>\n",
       "      <th>Volatility</th>\n",
       "    </tr>\n",
       "    <tr>\n",
       "      <th>Date</th>\n",
       "      <th></th>\n",
       "      <th></th>\n",
       "      <th></th>\n",
       "    </tr>\n",
       "  </thead>\n",
       "  <tbody>\n",
       "    <tr>\n",
       "      <th>2015-01-30</th>\n",
       "      <td>231.8</td>\n",
       "      <td>-0.0092</td>\n",
       "      <td>0.088220</td>\n",
       "    </tr>\n",
       "    <tr>\n",
       "      <th>2015-01-31</th>\n",
       "      <td>218.5</td>\n",
       "      <td>-0.0575</td>\n",
       "      <td>0.088707</td>\n",
       "    </tr>\n",
       "    <tr>\n",
       "      <th>2015-02-01</th>\n",
       "      <td>225.3</td>\n",
       "      <td>0.0310</td>\n",
       "      <td>0.088983</td>\n",
       "    </tr>\n",
       "    <tr>\n",
       "      <th>2015-02-02</th>\n",
       "      <td>238.9</td>\n",
       "      <td>0.0602</td>\n",
       "      <td>0.088419</td>\n",
       "    </tr>\n",
       "    <tr>\n",
       "      <th>2015-02-03</th>\n",
       "      <td>227.4</td>\n",
       "      <td>-0.0479</td>\n",
       "      <td>0.087697</td>\n",
       "    </tr>\n",
       "  </tbody>\n",
       "</table>\n",
       "</div>"
      ],
      "text/plain": [
       "            Price  Daily_Returns  Volatility\n",
       "Date                                        \n",
       "2015-01-30  231.8        -0.0092    0.088220\n",
       "2015-01-31  218.5        -0.0575    0.088707\n",
       "2015-02-01  225.3         0.0310    0.088983\n",
       "2015-02-02  238.9         0.0602    0.088419\n",
       "2015-02-03  227.4        -0.0479    0.087697"
      ]
     },
     "execution_count": 7,
     "metadata": {},
     "output_type": "execute_result"
    }
   ],
   "source": [
    "bitcoin_df.head()"
   ]
  },
  {
   "cell_type": "code",
   "execution_count": 8,
   "metadata": {},
   "outputs": [
    {
     "data": {
      "text/html": [
       "<div>\n",
       "<style scoped>\n",
       "    .dataframe tbody tr th:only-of-type {\n",
       "        vertical-align: middle;\n",
       "    }\n",
       "\n",
       "    .dataframe tbody tr th {\n",
       "        vertical-align: top;\n",
       "    }\n",
       "\n",
       "    .dataframe thead th {\n",
       "        text-align: right;\n",
       "    }\n",
       "</style>\n",
       "<table border=\"1\" class=\"dataframe\">\n",
       "  <thead>\n",
       "    <tr style=\"text-align: right;\">\n",
       "      <th></th>\n",
       "      <th>replies</th>\n",
       "      <th>retweets</th>\n",
       "      <th>text</th>\n",
       "    </tr>\n",
       "    <tr>\n",
       "      <th>date</th>\n",
       "      <th></th>\n",
       "      <th></th>\n",
       "      <th></th>\n",
       "    </tr>\n",
       "  </thead>\n",
       "  <tbody>\n",
       "    <tr>\n",
       "      <th>2020-04-13</th>\n",
       "      <td>3</td>\n",
       "      <td>10</td>\n",
       "      <td>MARKET WRAP: Bearish signals have analysts sea...</td>\n",
       "    </tr>\n",
       "    <tr>\n",
       "      <th>2020-04-13</th>\n",
       "      <td>2</td>\n",
       "      <td>5</td>\n",
       "      <td>IN DEPTH: As the EU navigates privacy protecti...</td>\n",
       "    </tr>\n",
       "    <tr>\n",
       "      <th>2020-04-13</th>\n",
       "      <td>0</td>\n",
       "      <td>6</td>\n",
       "      <td>Renowned economist and author Carlota Perez @C...</td>\n",
       "    </tr>\n",
       "    <tr>\n",
       "      <th>2020-04-13</th>\n",
       "      <td>2</td>\n",
       "      <td>9</td>\n",
       "      <td>IN DEPTH: Engineers in the Midwest are creatin...</td>\n",
       "    </tr>\n",
       "    <tr>\n",
       "      <th>2020-04-13</th>\n",
       "      <td>1</td>\n",
       "      <td>12</td>\n",
       "      <td>NEW: @HuobiGlobal has launched a new in-house ...</td>\n",
       "    </tr>\n",
       "  </tbody>\n",
       "</table>\n",
       "</div>"
      ],
      "text/plain": [
       "            replies  retweets  \\\n",
       "date                            \n",
       "2020-04-13        3        10   \n",
       "2020-04-13        2         5   \n",
       "2020-04-13        0         6   \n",
       "2020-04-13        2         9   \n",
       "2020-04-13        1        12   \n",
       "\n",
       "                                                         text  \n",
       "date                                                           \n",
       "2020-04-13  MARKET WRAP: Bearish signals have analysts sea...  \n",
       "2020-04-13  IN DEPTH: As the EU navigates privacy protecti...  \n",
       "2020-04-13  Renowned economist and author Carlota Perez @C...  \n",
       "2020-04-13  IN DEPTH: Engineers in the Midwest are creatin...  \n",
       "2020-04-13  NEW: @HuobiGlobal has launched a new in-house ...  "
      ]
     },
     "execution_count": 8,
     "metadata": {},
     "output_type": "execute_result"
    }
   ],
   "source": [
    "bitcoin_twr = pd.read_csv(Path('Resources/coindesk_btc.csv'), parse_dates=True, infer_datetime_format=True)\n",
    "bitcoin_twr.drop(columns=['username','to','favorites','geo','mentions','hashtags','id','permalink'], inplace=True)\n",
    "bitcoin_twr.head()\n",
    "#change date column to datetime\n",
    "bitcoin_twr['date'] = pd.to_datetime(bitcoin_twr['date'], format='%Y-%m-%d')\n",
    "# Remove timestamp\n",
    "bitcoin_twr['date']=bitcoin_twr['date'].apply(lambda x: x.strftime('%Y-%m-%d'))\n",
    "# change index to date\n",
    "bitcoin_twr.set_index('date', inplace = True)\n",
    "bitcoin_twr.index = pd.to_datetime(bitcoin_twr.index)\n",
    "bitcoin_twr.head()"
   ]
  },
  {
   "cell_type": "code",
   "execution_count": 9,
   "metadata": {},
   "outputs": [
    {
     "name": "stderr",
     "output_type": "stream",
     "text": [
      "[nltk_data] Downloading package wordnet to\n",
      "[nltk_data]     C:\\Users\\jaime\\AppData\\Roaming\\nltk_data...\n",
      "[nltk_data]   Package wordnet is already up-to-date!\n"
     ]
    },
    {
     "data": {
      "text/plain": [
       "True"
      ]
     },
     "execution_count": 9,
     "metadata": {},
     "output_type": "execute_result"
    }
   ],
   "source": [
    "from nltk.corpus import stopwords\n",
    "from nltk.tokenize import word_tokenize\n",
    "import re\n",
    "from nltk.stem import WordNetLemmatizer\n",
    "\n",
    "lemmatizer = WordNetLemmatizer()\n",
    "# Code to download wordnet corpora\n",
    "import nltk \n",
    "nltk.download('wordnet')"
   ]
  },
  {
   "cell_type": "code",
   "execution_count": 10,
   "metadata": {},
   "outputs": [],
   "source": [
    "def process_text(doc):\n",
    "   # doc = str(doc)\n",
    "    sw = set(stopwords.words('english'))\n",
    "    regex = re.compile('[^a-zA-Z ]')\n",
    "    re_clean = regex.sub('', doc)\n",
    "    words = word_tokenize(re_clean)\n",
    "    lemm_words = [lemmatizer.lemmatize(word) for word in words]\n",
    "    final_words = [word.lower() for word in lemm_words if word.lower() not in sw]\n",
    "    #returns a large string of all words from all articles in corpus\n",
    "    return ' '.join(final_words)"
   ]
  },
  {
   "cell_type": "code",
   "execution_count": 11,
   "metadata": {},
   "outputs": [],
   "source": [
    "for row, column in bitcoin_twr.items():\n",
    "    if column.name == 'text':\n",
    "        #print(column.name)\n",
    "        bitcoin_twr[column.name] = bitcoin_twr[column.name].apply(lambda x: process_text(x))"
   ]
  },
  {
   "cell_type": "code",
   "execution_count": 12,
   "metadata": {},
   "outputs": [
    {
     "data": {
      "text/html": [
       "<div>\n",
       "<style scoped>\n",
       "    .dataframe tbody tr th:only-of-type {\n",
       "        vertical-align: middle;\n",
       "    }\n",
       "\n",
       "    .dataframe tbody tr th {\n",
       "        vertical-align: top;\n",
       "    }\n",
       "\n",
       "    .dataframe thead th {\n",
       "        text-align: right;\n",
       "    }\n",
       "</style>\n",
       "<table border=\"1\" class=\"dataframe\">\n",
       "  <thead>\n",
       "    <tr style=\"text-align: right;\">\n",
       "      <th></th>\n",
       "      <th>replies</th>\n",
       "      <th>retweets</th>\n",
       "      <th>text</th>\n",
       "    </tr>\n",
       "    <tr>\n",
       "      <th>date</th>\n",
       "      <th></th>\n",
       "      <th></th>\n",
       "      <th></th>\n",
       "    </tr>\n",
       "  </thead>\n",
       "  <tbody>\n",
       "    <tr>\n",
       "      <th>2018-02-12</th>\n",
       "      <td>6</td>\n",
       "      <td>30</td>\n",
       "      <td>dont miss upcoming cryptocurrency capital mark...</td>\n",
       "    </tr>\n",
       "    <tr>\n",
       "      <th>2018-02-12</th>\n",
       "      <td>49</td>\n",
       "      <td>464</td>\n",
       "      <td>jpmorgan report crypto could one day help dive...</td>\n",
       "    </tr>\n",
       "    <tr>\n",
       "      <th>2018-02-13</th>\n",
       "      <td>5</td>\n",
       "      <td>35</td>\n",
       "      <td>russian ministry proposes capital mandates ico...</td>\n",
       "    </tr>\n",
       "    <tr>\n",
       "      <th>2018-02-13</th>\n",
       "      <td>19</td>\n",
       "      <td>43</td>\n",
       "      <td>better late never time regulators put crypto n...</td>\n",
       "    </tr>\n",
       "    <tr>\n",
       "      <th>2018-02-13</th>\n",
       "      <td>15</td>\n",
       "      <td>183</td>\n",
       "      <td>expect congress talks blockchain tomorrow http...</td>\n",
       "    </tr>\n",
       "  </tbody>\n",
       "</table>\n",
       "</div>"
      ],
      "text/plain": [
       "            replies  retweets  \\\n",
       "date                            \n",
       "2018-02-12        6        30   \n",
       "2018-02-12       49       464   \n",
       "2018-02-13        5        35   \n",
       "2018-02-13       19        43   \n",
       "2018-02-13       15       183   \n",
       "\n",
       "                                                         text  \n",
       "date                                                           \n",
       "2018-02-12  dont miss upcoming cryptocurrency capital mark...  \n",
       "2018-02-12  jpmorgan report crypto could one day help dive...  \n",
       "2018-02-13  russian ministry proposes capital mandates ico...  \n",
       "2018-02-13  better late never time regulators put crypto n...  \n",
       "2018-02-13  expect congress talks blockchain tomorrow http...  "
      ]
     },
     "execution_count": 12,
     "metadata": {},
     "output_type": "execute_result"
    }
   ],
   "source": [
    "bitcoin_twr.sort_index(inplace=True)\n",
    "bitcoin_twr.head()"
   ]
  },
  {
   "cell_type": "markdown",
   "metadata": {},
   "source": [
    "### Using Mohan's Funtions"
   ]
  },
  {
   "cell_type": "code",
   "execution_count": 13,
   "metadata": {},
   "outputs": [],
   "source": [
    "from nltk.sentiment.vader import SentimentIntensityAnalyzer\n",
    "analyzer = SentimentIntensityAnalyzer()"
   ]
  },
  {
   "cell_type": "code",
   "execution_count": 14,
   "metadata": {},
   "outputs": [],
   "source": [
    "def retVComp(text):\n",
    "    \"\"\"\n",
    "        Accepts a string of text and Returns compound from polarity scoring in the form of a FLOAT\n",
    "    \"\"\"\n",
    "    return analyzer.polarity_scores(text)['compound']"
   ]
  },
  {
   "cell_type": "code",
   "execution_count": 15,
   "metadata": {},
   "outputs": [
    {
     "data": {
      "text/html": [
       "<div>\n",
       "<style scoped>\n",
       "    .dataframe tbody tr th:only-of-type {\n",
       "        vertical-align: middle;\n",
       "    }\n",
       "\n",
       "    .dataframe tbody tr th {\n",
       "        vertical-align: top;\n",
       "    }\n",
       "\n",
       "    .dataframe thead th {\n",
       "        text-align: right;\n",
       "    }\n",
       "</style>\n",
       "<table border=\"1\" class=\"dataframe\">\n",
       "  <thead>\n",
       "    <tr style=\"text-align: right;\">\n",
       "      <th></th>\n",
       "      <th>replies</th>\n",
       "      <th>retweets</th>\n",
       "      <th>text</th>\n",
       "      <th>sentiment</th>\n",
       "    </tr>\n",
       "    <tr>\n",
       "      <th>date</th>\n",
       "      <th></th>\n",
       "      <th></th>\n",
       "      <th></th>\n",
       "      <th></th>\n",
       "    </tr>\n",
       "  </thead>\n",
       "  <tbody>\n",
       "    <tr>\n",
       "      <th>2018-02-12</th>\n",
       "      <td>6</td>\n",
       "      <td>30</td>\n",
       "      <td>dont miss upcoming cryptocurrency capital mark...</td>\n",
       "      <td>0.5781</td>\n",
       "    </tr>\n",
       "    <tr>\n",
       "      <th>2018-02-12</th>\n",
       "      <td>49</td>\n",
       "      <td>464</td>\n",
       "      <td>jpmorgan report crypto could one day help dive...</td>\n",
       "      <td>0.4019</td>\n",
       "    </tr>\n",
       "    <tr>\n",
       "      <th>2018-02-13</th>\n",
       "      <td>5</td>\n",
       "      <td>35</td>\n",
       "      <td>russian ministry proposes capital mandates ico...</td>\n",
       "      <td>0.0000</td>\n",
       "    </tr>\n",
       "    <tr>\n",
       "      <th>2018-02-13</th>\n",
       "      <td>19</td>\n",
       "      <td>43</td>\n",
       "      <td>better late never time regulators put crypto n...</td>\n",
       "      <td>0.4404</td>\n",
       "    </tr>\n",
       "    <tr>\n",
       "      <th>2018-02-13</th>\n",
       "      <td>15</td>\n",
       "      <td>183</td>\n",
       "      <td>expect congress talks blockchain tomorrow http...</td>\n",
       "      <td>0.0000</td>\n",
       "    </tr>\n",
       "  </tbody>\n",
       "</table>\n",
       "</div>"
      ],
      "text/plain": [
       "            replies  retweets  \\\n",
       "date                            \n",
       "2018-02-12        6        30   \n",
       "2018-02-12       49       464   \n",
       "2018-02-13        5        35   \n",
       "2018-02-13       19        43   \n",
       "2018-02-13       15       183   \n",
       "\n",
       "                                                         text  sentiment  \n",
       "date                                                                      \n",
       "2018-02-12  dont miss upcoming cryptocurrency capital mark...     0.5781  \n",
       "2018-02-12  jpmorgan report crypto could one day help dive...     0.4019  \n",
       "2018-02-13  russian ministry proposes capital mandates ico...     0.0000  \n",
       "2018-02-13  better late never time regulators put crypto n...     0.4404  \n",
       "2018-02-13  expect congress talks blockchain tomorrow http...     0.0000  "
      ]
     },
     "execution_count": 15,
     "metadata": {},
     "output_type": "execute_result"
    }
   ],
   "source": [
    "sentList = []\n",
    "for row in bitcoin_twr['text']:\n",
    "    sentList.append(retVComp(row))\n",
    "\n",
    "bitcoin_twr['sentiment'] = sentList\n",
    "bitcoin_twr.head()"
   ]
  },
  {
   "cell_type": "code",
   "execution_count": 16,
   "metadata": {},
   "outputs": [],
   "source": [
    "possible_df=bitcoin_twr[['replies','retweets',\n",
    "                         'sentiment']].groupby(bitcoin_twr.index.date).sum()"
   ]
  },
  {
   "cell_type": "code",
   "execution_count": 17,
   "metadata": {},
   "outputs": [
    {
     "data": {
      "text/html": [
       "<div>\n",
       "<style scoped>\n",
       "    .dataframe tbody tr th:only-of-type {\n",
       "        vertical-align: middle;\n",
       "    }\n",
       "\n",
       "    .dataframe tbody tr th {\n",
       "        vertical-align: top;\n",
       "    }\n",
       "\n",
       "    .dataframe thead th {\n",
       "        text-align: right;\n",
       "    }\n",
       "</style>\n",
       "<table border=\"1\" class=\"dataframe\">\n",
       "  <thead>\n",
       "    <tr style=\"text-align: right;\">\n",
       "      <th></th>\n",
       "      <th>replies</th>\n",
       "      <th>retweets</th>\n",
       "      <th>sentiment</th>\n",
       "    </tr>\n",
       "  </thead>\n",
       "  <tbody>\n",
       "    <tr>\n",
       "      <th>2018-02-12</th>\n",
       "      <td>55</td>\n",
       "      <td>494</td>\n",
       "      <td>0.9800</td>\n",
       "    </tr>\n",
       "    <tr>\n",
       "      <th>2018-02-13</th>\n",
       "      <td>296</td>\n",
       "      <td>1230</td>\n",
       "      <td>0.9804</td>\n",
       "    </tr>\n",
       "    <tr>\n",
       "      <th>2018-02-14</th>\n",
       "      <td>452</td>\n",
       "      <td>2681</td>\n",
       "      <td>7.4990</td>\n",
       "    </tr>\n",
       "    <tr>\n",
       "      <th>2018-02-15</th>\n",
       "      <td>479</td>\n",
       "      <td>1732</td>\n",
       "      <td>0.0431</td>\n",
       "    </tr>\n",
       "    <tr>\n",
       "      <th>2018-02-16</th>\n",
       "      <td>387</td>\n",
       "      <td>1383</td>\n",
       "      <td>0.5844</td>\n",
       "    </tr>\n",
       "  </tbody>\n",
       "</table>\n",
       "</div>"
      ],
      "text/plain": [
       "            replies  retweets  sentiment\n",
       "2018-02-12       55       494     0.9800\n",
       "2018-02-13      296      1230     0.9804\n",
       "2018-02-14      452      2681     7.4990\n",
       "2018-02-15      479      1732     0.0431\n",
       "2018-02-16      387      1383     0.5844"
      ]
     },
     "execution_count": 17,
     "metadata": {},
     "output_type": "execute_result"
    }
   ],
   "source": [
    "possible_df.head()"
   ]
  },
  {
   "cell_type": "code",
   "execution_count": 18,
   "metadata": {},
   "outputs": [],
   "source": [
    "join_df = possible_df.join(bitcoin_df,how='left')"
   ]
  },
  {
   "cell_type": "markdown",
   "metadata": {},
   "source": [
    "### IGNORE THIS PART\n",
    "join_df\n",
    "\n",
    "join_df.iloc[:,feature_column]\n",
    "\n",
    " join_df.iloc[:2,[0,1,2]].to_numpy()\n",
    "\n",
    "join_df.iloc[:2,[0,1,2]].to_numpy().shape\n",
    "\n",
    "pd.DataFrame(x).to_numpy()\n",
    "\n",
    "x[0]\n",
    "\n",
    "join_df.tail()\n",
    "\n",
    "join_df.columns"
   ]
  },
  {
   "cell_type": "markdown",
   "metadata": {},
   "source": [
    "# LSTM MODEL"
   ]
  },
  {
   "cell_type": "code",
   "execution_count": 19,
   "metadata": {},
   "outputs": [],
   "source": [
    "from sklearn.preprocessing import MinMaxScaler\n",
    "from tensorflow.keras.models import Sequential \n",
    "from tensorflow.keras.layers import Dense, LSTM, Dropout\n",
    "from numpy.random import seed\n",
    "seed(1)\n",
    "from tensorflow import random\n",
    "random.set_seed(2)"
   ]
  },
  {
   "cell_type": "code",
   "execution_count": 20,
   "metadata": {},
   "outputs": [],
   "source": [
    "# This function accepts the column number for the features (X) and the target (y)\n",
    "# It chunks the data up with a rolling window of Xt-n to predict Xt\n",
    "# It returns a numpy array of X any y\n",
    "def window_data(df, window, feature_col_number, target_col_number):\n",
    "    X = []\n",
    "    y = []\n",
    "    for i in range(len(df) - window - 1):\n",
    "        features = df.iloc[i:(i + window), feature_col_number].to_numpy()\n",
    "        target = df.iloc[(i + window), target_col_number]\n",
    "        X.append([features])\n",
    "        y.append(target)\n",
    "    X = np.array(X)\n",
    "    return X.reshape(len(X),window*len(feature_col_number)),np.array(y).reshape(-1, 1)"
   ]
  },
  {
   "cell_type": "code",
   "execution_count": 21,
   "metadata": {},
   "outputs": [],
   "source": [
    "window_size = 10\n",
    "# list of columns to pass as features\n",
    "feature_column = [0,1,2,3,4]\n",
    "# Target col is volatility\n",
    "target_column = 5\n",
    "X, y = window_data(join_df, window_size, feature_column, target_column)"
   ]
  },
  {
   "cell_type": "code",
   "execution_count": 22,
   "metadata": {},
   "outputs": [],
   "source": [
    "# Use 70% of the data for training and the remainder for testing\n",
    "split = int(0.7 * len(X))\n",
    "X_train = X[: split - 1]\n",
    "X_test = X[split:]\n",
    "y_train = y[: split - 1]\n",
    "y_test = y[split:]"
   ]
  },
  {
   "cell_type": "code",
   "execution_count": 23,
   "metadata": {},
   "outputs": [],
   "source": [
    "# Use the MinMaxScaler to scale data between 0 and 1.\n",
    "from sklearn.preprocessing import MinMaxScaler\n",
    "\n",
    "scaler = MinMaxScaler()\n",
    "scaler.fit(X)\n",
    "X_train = scaler.transform(X_train)\n",
    "X_test = scaler.transform(X_test)\n",
    "scaler.fit(y)\n",
    "y_train = scaler.transform(y_train)\n",
    "y_test = scaler.transform(y_test)"
   ]
  },
  {
   "cell_type": "code",
   "execution_count": 24,
   "metadata": {},
   "outputs": [],
   "source": [
    "# Reshape the features for the model\n",
    "X_train = X_train.reshape((X_train.shape[0], X_train.shape[1], 1))\n",
    "X_test = X_test.reshape((X_test.shape[0], X_test.shape[1], 1))\n",
    "#print (f\"X_train sample values:\\n{X_train[0]} \\n\")\n",
    "#print (f\"X_test sample values:\\n{X_test[0]}\")"
   ]
  },
  {
   "cell_type": "code",
   "execution_count": 25,
   "metadata": {},
   "outputs": [],
   "source": [
    "# Import required Keras modules\n",
    "from tensorflow.keras.models import Sequential\n",
    "from tensorflow.keras.layers import LSTM, Dense, Dropout"
   ]
  },
  {
   "cell_type": "code",
   "execution_count": 26,
   "metadata": {},
   "outputs": [],
   "source": [
    "# Define the LSTM RNN model.\n",
    "model = Sequential()\n",
    "\n",
    "number_units = 30\n",
    "dropout_fraction = 0.2\n",
    "\n",
    "# Layer 1\n",
    "model.add(LSTM(\n",
    "    units=number_units,\n",
    "    return_sequences=True,\n",
    "    input_shape=(X_train.shape[1], 1))\n",
    "    )\n",
    "model.add(Dropout(dropout_fraction))\n",
    "# Layer 2\n",
    "model.add(LSTM(units=number_units, return_sequences=True))\n",
    "model.add(Dropout(dropout_fraction))\n",
    "# layer 3\n",
    "model.add(LSTM(units=number_units, return_sequences=True))\n",
    "model.add(Dropout(dropout_fraction))\n",
    "# layer 4\n",
    "model.add(LSTM(units=number_units, return_sequences=True))\n",
    "model.add(Dropout(dropout_fraction))\n",
    "# Layer 5\n",
    "model.add(LSTM(units=number_units))\n",
    "model.add(Dropout(dropout_fraction))\n",
    "# Output layer\n",
    "model.add(Dense(1,))"
   ]
  },
  {
   "cell_type": "code",
   "execution_count": 27,
   "metadata": {},
   "outputs": [],
   "source": [
    "# Compile the model\n",
    "model.compile(optimizer=\"adam\", loss=\"mean_squared_error\")"
   ]
  },
  {
   "cell_type": "code",
   "execution_count": 28,
   "metadata": {},
   "outputs": [
    {
     "name": "stdout",
     "output_type": "stream",
     "text": [
      "Model: \"sequential\"\n",
      "_________________________________________________________________\n",
      "Layer (type)                 Output Shape              Param #   \n",
      "=================================================================\n",
      "lstm (LSTM)                  (None, 50, 30)            3840      \n",
      "_________________________________________________________________\n",
      "dropout (Dropout)            (None, 50, 30)            0         \n",
      "_________________________________________________________________\n",
      "lstm_1 (LSTM)                (None, 50, 30)            7320      \n",
      "_________________________________________________________________\n",
      "dropout_1 (Dropout)          (None, 50, 30)            0         \n",
      "_________________________________________________________________\n",
      "lstm_2 (LSTM)                (None, 50, 30)            7320      \n",
      "_________________________________________________________________\n",
      "dropout_2 (Dropout)          (None, 50, 30)            0         \n",
      "_________________________________________________________________\n",
      "lstm_3 (LSTM)                (None, 50, 30)            7320      \n",
      "_________________________________________________________________\n",
      "dropout_3 (Dropout)          (None, 50, 30)            0         \n",
      "_________________________________________________________________\n",
      "lstm_4 (LSTM)                (None, 30)                7320      \n",
      "_________________________________________________________________\n",
      "dropout_4 (Dropout)          (None, 30)                0         \n",
      "_________________________________________________________________\n",
      "dense (Dense)                (None, 1)                 31        \n",
      "=================================================================\n",
      "Total params: 33,151\n",
      "Trainable params: 33,151\n",
      "Non-trainable params: 0\n",
      "_________________________________________________________________\n"
     ]
    }
   ],
   "source": [
    "# Summarize the model\n",
    "model.summary()"
   ]
  },
  {
   "cell_type": "code",
   "execution_count": 29,
   "metadata": {},
   "outputs": [
    {
     "data": {
      "text/plain": [
       "<tensorflow.python.keras.callbacks.History at 0x189ffe3b348>"
      ]
     },
     "execution_count": 29,
     "metadata": {},
     "output_type": "execute_result"
    }
   ],
   "source": [
    "# Train the model\n",
    "# NOTE: verbose=0 will not print anything out\n",
    "model.fit(X_train, y_train, epochs=100, shuffle=False, batch_size=50, verbose=0)"
   ]
  },
  {
   "cell_type": "code",
   "execution_count": 35,
   "metadata": {},
   "outputs": [
    {
     "name": "stdout",
     "output_type": "stream",
     "text": [
      "234/234 [==============================] - 0s 1ms/sample - loss: 0.0716\n"
     ]
    },
    {
     "data": {
      "text/plain": [
       "0.07160880701600486"
      ]
     },
     "execution_count": 35,
     "metadata": {},
     "output_type": "execute_result"
    }
   ],
   "source": [
    "# Evaluate the model\n",
    "model.evaluate(X_test, y_test)"
   ]
  },
  {
   "cell_type": "code",
   "execution_count": 36,
   "metadata": {},
   "outputs": [],
   "source": [
    "# Make some predictions\n",
    "predicted = model.predict(X_test)"
   ]
  },
  {
   "cell_type": "code",
   "execution_count": 37,
   "metadata": {},
   "outputs": [
    {
     "data": {
      "text/html": [
       "<div>\n",
       "<style scoped>\n",
       "    .dataframe tbody tr th:only-of-type {\n",
       "        vertical-align: middle;\n",
       "    }\n",
       "\n",
       "    .dataframe tbody tr th {\n",
       "        vertical-align: top;\n",
       "    }\n",
       "\n",
       "    .dataframe thead th {\n",
       "        text-align: right;\n",
       "    }\n",
       "</style>\n",
       "<table border=\"1\" class=\"dataframe\">\n",
       "  <thead>\n",
       "    <tr style=\"text-align: right;\">\n",
       "      <th></th>\n",
       "      <th>Real</th>\n",
       "      <th>Predicted</th>\n",
       "    </tr>\n",
       "  </thead>\n",
       "  <tbody>\n",
       "    <tr>\n",
       "      <th>0</th>\n",
       "      <td>0.035782</td>\n",
       "      <td>0.042500</td>\n",
       "    </tr>\n",
       "    <tr>\n",
       "      <th>1</th>\n",
       "      <td>0.036942</td>\n",
       "      <td>0.043567</td>\n",
       "    </tr>\n",
       "    <tr>\n",
       "      <th>2</th>\n",
       "      <td>0.035723</td>\n",
       "      <td>0.043614</td>\n",
       "    </tr>\n",
       "    <tr>\n",
       "      <th>3</th>\n",
       "      <td>0.035999</td>\n",
       "      <td>0.040820</td>\n",
       "    </tr>\n",
       "    <tr>\n",
       "      <th>4</th>\n",
       "      <td>0.036265</td>\n",
       "      <td>0.041098</td>\n",
       "    </tr>\n",
       "  </tbody>\n",
       "</table>\n",
       "</div>"
      ],
      "text/plain": [
       "       Real  Predicted\n",
       "0  0.035782   0.042500\n",
       "1  0.036942   0.043567\n",
       "2  0.035723   0.043614\n",
       "3  0.035999   0.040820\n",
       "4  0.036265   0.041098"
      ]
     },
     "execution_count": 37,
     "metadata": {},
     "output_type": "execute_result"
    }
   ],
   "source": [
    "# Recover the original prices instead of the scaled version\n",
    "predicted_prices = scaler.inverse_transform(predicted)\n",
    "real_prices = scaler.inverse_transform(y_test.reshape(-1, 1))\n",
    "# Create a DataFrame of Real and Predicted values\n",
    "bitcoin_price= pd.DataFrame({\n",
    "    \"Real\": real_prices.ravel(),\n",
    "    \"Predicted\": predicted_prices.ravel()\n",
    "})\n",
    "bitcoin_price.head()"
   ]
  },
  {
   "cell_type": "code",
   "execution_count": 38,
   "metadata": {},
   "outputs": [
    {
     "data": {
      "text/html": [
       "<div>\n",
       "<style scoped>\n",
       "    .dataframe tbody tr th:only-of-type {\n",
       "        vertical-align: middle;\n",
       "    }\n",
       "\n",
       "    .dataframe tbody tr th {\n",
       "        vertical-align: top;\n",
       "    }\n",
       "\n",
       "    .dataframe thead th {\n",
       "        text-align: right;\n",
       "    }\n",
       "</style>\n",
       "<table border=\"1\" class=\"dataframe\">\n",
       "  <thead>\n",
       "    <tr style=\"text-align: right;\">\n",
       "      <th></th>\n",
       "      <th>Real</th>\n",
       "      <th>Predicted</th>\n",
       "    </tr>\n",
       "  </thead>\n",
       "  <tbody>\n",
       "    <tr>\n",
       "      <th>229</th>\n",
       "      <td>0.093817</td>\n",
       "      <td>0.031607</td>\n",
       "    </tr>\n",
       "    <tr>\n",
       "      <th>230</th>\n",
       "      <td>0.093834</td>\n",
       "      <td>0.031649</td>\n",
       "    </tr>\n",
       "    <tr>\n",
       "      <th>231</th>\n",
       "      <td>0.094486</td>\n",
       "      <td>0.031656</td>\n",
       "    </tr>\n",
       "    <tr>\n",
       "      <th>232</th>\n",
       "      <td>0.058719</td>\n",
       "      <td>0.031619</td>\n",
       "    </tr>\n",
       "    <tr>\n",
       "      <th>233</th>\n",
       "      <td>0.052073</td>\n",
       "      <td>0.031533</td>\n",
       "    </tr>\n",
       "  </tbody>\n",
       "</table>\n",
       "</div>"
      ],
      "text/plain": [
       "         Real  Predicted\n",
       "229  0.093817   0.031607\n",
       "230  0.093834   0.031649\n",
       "231  0.094486   0.031656\n",
       "232  0.058719   0.031619\n",
       "233  0.052073   0.031533"
      ]
     },
     "execution_count": 38,
     "metadata": {},
     "output_type": "execute_result"
    }
   ],
   "source": [
    "bitcoin_price.tail()"
   ]
  },
  {
   "cell_type": "code",
   "execution_count": 39,
   "metadata": {},
   "outputs": [
    {
     "data": {
      "text/plain": [
       "<matplotlib.axes._subplots.AxesSubplot at 0x189902dc3c8>"
      ]
     },
     "execution_count": 39,
     "metadata": {},
     "output_type": "execute_result"
    },
    {
     "data": {
      "image/png": "[encoded data removed]",
      "text/plain": [
       "<Figure size 432x288 with 1 Axes>"
      ]
     },
     "metadata": {
      "needs_background": "light"
     },
     "output_type": "display_data"
    }
   ],
   "source": [
    "# Plot the real vs predicted prices as a line chart\n",
    "bitcoin_price.plot()"
   ]
  },
  {
   "cell_type": "code",
   "execution_count": 81,
   "metadata": {},
   "outputs": [],
   "source": [
    "def generate_graph(df=None):\n",
    "    \"\"\"This function will take in a df and return hvplot \n",
    "    \"\"\"\n",
    "    if df =='BTC':\n",
    "        local_df = bitcoin_price\n",
    "    fig = local_df.hvplot(\n",
    "                                legend='top',\n",
    "                                ylabel= 'Volatility',\n",
    "                                xlabel='Date', \n",
    "                                #hover_cols=['Real','Predicted'],\n",
    "                                hover=True,\n",
    "                                width=800,\n",
    "                                height=400\n",
    "                                )\n",
    "    return fig"
   ]
  },
  {
   "cell_type": "code",
   "execution_count": 82,
   "metadata": {},
   "outputs": [],
   "source": [
    "\"\"\"\n",
    "    This is a sample interactive graph with a widget selector for specific coin.\n",
    "\"\"\"\n",
    "coinSelector=pn.widgets.Select(name='Select Coin', value='BTC',options=['BTC', 'XRP', 'XLM','LTC','EOS','ETH','BCH','BSV','XMR', 'TRX'])\n",
    "layout = pn.interact(generate_graph, df=coinSelector)"
   ]
  },
  {
   "cell_type": "code",
   "execution_count": 83,
   "metadata": {},
   "outputs": [
    {
     "data": {
      "application/vnd.holoviews_exec.v0+json": "",
      "text/html": [
       "<div id='5693'>\n",
       "\n",
       "\n",
       "\n",
       "\n",
       "\n",
       "  <div class=\"bk-root\" id=\"5bb3ef1d-5dae-4de8-98da-f69075e44ceb\" data-root-id=\"5693\"></div>\n",
       "</div>\n",
       "<script type=\"application/javascript\">\n",
       "    function msg_handler(msg) {\n",
       "      var metadata = msg.metadata;\n",
       "      var buffers = msg.buffers;\n",
       "      var msg = msg.content.data;\n",
       "      if ((metadata.msg_type == \"Ready\")) {\n",
       "        if (metadata.content) {\n",
       "          console.log(\"Python callback returned following output:\", metadata.content);\n",
       "        }\n",
       "      } else if (metadata.msg_type == \"Error\") {\n",
       "        console.log(\"Python failed with the following traceback:\", metadata.traceback)\n",
       "      } else {\n",
       "        \n",
       "var plot_id = \"5693\";\n",
       "\n",
       "if ((plot_id in window.PyViz.plot_index) && (window.PyViz.plot_index[plot_id] != null)) {\n",
       "  var plot = window.PyViz.plot_index[plot_id];\n",
       "} else if ((Bokeh !== undefined) && (plot_id in Bokeh.index)) {\n",
       "  var plot = Bokeh.index[plot_id];\n",
       "}\n",
       "\n",
       "if (plot == null) {\n",
       "  return\n",
       "}\n",
       "\n",
       "if (plot_id in window.PyViz.receivers) {\n",
       "  var receiver = window.PyViz.receivers[plot_id];\n",
       "} else {\n",
       "  var receiver = new Bokeh.protocol.Receiver();\n",
       "  window.PyViz.receivers[plot_id] = receiver;\n",
       "}\n",
       "\n",
       "if ((buffers != undefined) && (buffers.length > 0)) {\n",
       "  receiver.consume(buffers[0].buffer)\n",
       "} else {\n",
       "  receiver.consume(msg)\n",
       "}\n",
       "\n",
       "const comm_msg = receiver.message;\n",
       "if ((comm_msg != null) && (Object.keys(comm_msg.content).length > 0)) {\n",
       "  plot.model.document.apply_json_patch(comm_msg.content, comm_msg.buffers)\n",
       "}\n",
       "\n",
       "      }\n",
       "    }\n",
       "    if ((window.PyViz == undefined) || (!window.PyViz.comm_manager)) {\n",
       "      console.log(\"Could not find comm manager\")\n",
       "    } else {\n",
       "      window.PyViz.comm_manager.register_target('5693', 'e77d87d1351d4c269742933ad260afc1', msg_handler);\n",
       "    }\n",
       "    \n",
       "(function(root) {\n",
       "  function embed_document(root) {\n",
       "    \n",
       "  var docs_json = {\"bfaa57fb-61f2-4236-9c35-4eca0a531b9e\":{\"roots\":{\"references\":[{\"attributes\":{\"line_alpha\":0.1,\"line_color\":\"#1f77b3\",\"line_width\":2,\"x\":{\"field\":\"index\"},\"y\":{\"field\":\"value\"}},\"id\":\"5746\",\"type\":\"Line\"},{\"attributes\":{\"line_color\":\"#ff7e0e\",\"line_width\":2,\"x\":{\"field\":\"index\"},\"y\":{\"field\":\"value\"}},\"id\":\"5761\",\"type\":\"Line\"},{\"attributes\":{\"children\":[{\"id\":\"5697\",\"type\":\"Select\"}],\"margin\":[0,0,0,0],\"name\":\"Column06187\"},\"id\":\"5696\",\"type\":\"Column\"},{\"attributes\":{},\"id\":\"5730\",\"type\":\"ResetTool\"},{\"attributes\":{\"callback\":null,\"data\":{\"Variable\":[\"Real\",\"Real\",\"Real\",\"Real\",\"Real\",\"Real\",\"Real\",\"Real\",\"Real\",\"Real\",\"Real\",\"Real\",\"Real\",\"Real\",\"Real\",\"Real\",\"Real\",\"Real\",\"Real\",\"Real\",\"Real\",\"Real\",\"Real\",\"Real\",\"Real\",\"Real\",\"Real\",\"Real\",\"Real\",\"Real\",\"Real\",\"Real\",\"Real\",\"Real\",\"Real\",\"Real\",\"Real\",\"Real\",\"Real\",\"Real\",\"Real\",\"Real\",\"Real\",\"Real\",\"Real\",\"Real\",\"Real\",\"Real\",\"Real\",\"Real\",\"Real\",\"Real\",\"Real\",\"Real\",\"Real\",\"Real\",\"Real\",\"Real\",\"Real\",\"Real\",\"Real\",\"Real\",\"Real\",\"Real\",\"Real\",\"Real\",\"Real\",\"Real\",\"Real\",\"Real\",\"Real\",\"Real\",\"Real\",\"Real\",\"Real\",\"Real\",\"Real\",\"Real\",\"Real\",\"Real\",\"Real\",\"Real\",\"Real\",\"Real\",\"Real\",\"Real\",\"Real\",\"Real\",\"Real\",\"Real\",\"Real\",\"Real\",\"Real\",\"Real\",\"Real\",\"Real\",\"Real\",\"Real\",\"Real\",\"Real\",\"Real\",\"Real\",\"Real\",\"Real\",\"Real\",\"Real\",\"Real\",\"Real\",\"Real\",\"Real\",\"Real\",\"Real\",\"Real\",\"Real\",\"Real\",\"Real\",\"Real\",\"Real\",\"Real\",\"Real\",\"Real\",\"Real\",\"Real\",\"Real\",\"Real\",\"Real\",\"Real\",\"Real\",\"Real\",\"Real\",\"Real\",\"Real\",\"Real\",\"Real\",\"Real\",\"Real\",\"Real\",\"Real\",\"Real\",\"Real\",\"Real\",\"Real\",\"Real\",\"Real\",\"Real\",\"Real\",\"Real\",\"Real\",\"Real\",\"Real\",\"Real\",\"Real\",\"Real\",\"Real\",\"Real\",\"Real\",\"Real\",\"Real\",\"Real\",\"Real\",\"Real\",\"Real\",\"Real\",\"Real\",\"Real\",\"Real\",\"Real\",\"Real\",\"Real\",\"Real\",\"Real\",\"Real\",\"Real\",\"Real\",\"Real\",\"Real\",\"Real\",\"Real\",\"Real\",\"Real\",\"Real\",\"Real\",\"Real\",\"Real\",\"Real\",\"Real\",\"Real\",\"Real\",\"Real\",\"Real\",\"Real\",\"Real\",\"Real\",\"Real\",\"Real\",\"Real\",\"Real\",\"Real\",\"Real\",\"Real\",\"Real\",\"Real\",\"Real\",\"Real\",\"Real\",\"Real\",\"Real\",\"Real\",\"Real\",\"Real\",\"Real\",\"Real\",\"Real\",\"Real\",\"Real\",\"Real\",\"Real\",\"Real\",\"Real\",\"Real\",\"Real\",\"Real\",\"Real\",\"Real\",\"Real\",\"Real\",\"Real\",\"Real\",\"Real\",\"Real\",\"Real\",\"Real\",\"Real\",\"Real\"],\"index\":[0,1,2,3,4,5,6,7,8,9,10,11,12,13,14,15,16,17,18,19,20,21,22,23,24,25,26,27,28,29,30,31,32,33,34,35,36,37,38,39,40,41,42,43,44,45,46,47,48,49,50,51,52,53,54,55,56,57,58,59,60,61,62,63,64,65,66,67,68,69,70,71,72,73,74,75,76,77,78,79,80,81,82,83,84,85,86,87,88,89,90,91,92,93,94,95,96,97,98,99,100,101,102,103,104,105,106,107,108,109,110,111,112,113,114,115,116,117,118,119,120,121,122,123,124,125,126,127,128,129,130,131,132,133,134,135,136,137,138,139,140,141,142,143,144,145,146,147,148,149,150,151,152,153,154,155,156,157,158,159,160,161,162,163,164,165,166,167,168,169,170,171,172,173,174,175,176,177,178,179,180,181,182,183,184,185,186,187,188,189,190,191,192,193,194,195,196,197,198,199,200,201,202,203,204,205,206,207,208,209,210,211,212,213,214,215,216,217,218,219,220,221,222,223,224,225,226,227,228,229,230,231,232,233],\"value\":{\"__ndarray__\":\"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\",\"dtype\":\"float64\",\"shape\":[234]}},\"selected\":{\"id\":\"5743\",\"type\":\"Selection\"},\"selection_policy\":{\"id\":\"5772\",\"type\":\"UnionRenderers\"}},\"id\":\"5742\",\"type\":\"ColumnDataSource\"},{\"attributes\":{},\"id\":\"5740\",\"type\":\"BasicTickFormatter\"},{\"attributes\":{\"dimension\":1,\"grid_line_color\":null,\"ticker\":{\"id\":\"5722\",\"type\":\"BasicTicker\"}},\"id\":\"5725\",\"type\":\"Grid\"},{\"attributes\":{\"callback\":null,\"renderers\":[{\"id\":\"5748\",\"type\":\"GlyphRenderer\"},{\"id\":\"5764\",\"type\":\"GlyphRenderer\"}],\"tags\":[\"hv_created\"],\"tooltips\":[[\"Variable\",\"@{Variable}\"],[\"index\",\"@{index}\"],[\"value\",\"@{value}\"]]},\"id\":\"5705\",\"type\":\"HoverTool\"},{\"attributes\":{\"callback\":null,\"end\":0.0953770726564081,\"reset_end\":0.0953770726564081,\"reset_start\":0.020019937189149024,\"start\":0.020019937189149024,\"tags\":[[[\"value\",\"value\",null]]]},\"id\":\"5704\",\"type\":\"Range1d\"},{\"attributes\":{\"code\":\"\\nif (!window.PyViz) {\\n  return;\\n}\\nvar events = [];\\nvar receiver = window.PyViz.receivers['5693'];\\nif (receiver &&\\n        receiver._partial &&\\n        receiver._partial.content &&\\n        receiver._partial.content.events) {\\n    events = receiver._partial.content.events;\\n}\\n\\nfor (var event of events) {\\n  if ((event.kind === 'ModelChanged') && (event.attr === 'title') &&\\n      (cb_obj.id === event.model.id) &&\\n      (JSON.stringify(cb_obj['title']) === JSON.stringify(event.new))) {\\n    events.pop(events.indexOf(event))\\n    return;\\n  }\\n}\\n\\ndata = {title: cb_obj['title'], 'id': cb_obj.id};\\ncb_obj.event_name = 'title';\\n\\nfunction unique_events(events) {\\n  // Processes the event queue ignoring duplicate events\\n  // of the same type\\n  var unique = [];\\n  var unique_events = [];\\n  for (var i=0; i<events.length; i++) {\\n    var _tmpevent = events[i];\\n    event = _tmpevent[0];\\n    data = _tmpevent[1];\\n    if (unique_events.indexOf(event)===-1) {\\n      unique.unshift(data);\\n      unique_events.push(event);\\n      }\\n  }\\n  return unique;\\n}\\n\\nfunction process_events(comm_status) {\\n  // Iterates over event queue and sends events via Comm\\n  var events = unique_events(comm_status.event_buffer);\\n  for (var i=0; i<events.length; i++) {\\n    var data = events[i];\\n    var comm = window.PyViz.comms[data[\\\"comm_id\\\"]];\\n    comm.send(data);\\n  }\\n  comm_status.event_buffer = [];\\n}\\n\\nfunction on_msg(msg) {\\n  // Receives acknowledgement from Python, processing event\\n  // and unblocking Comm if event queue empty\\n  var metadata = msg.metadata;\\n  var comm_id = metadata.comm_id\\n  var comm_status = window.PyViz.comm_status[comm_id];\\n  if (comm_status.event_buffer.length) {\\n    process_events(comm_status);\\n    comm_status.blocked = true;\\n    comm_status.time = Date.now()+50;\\n  } else {\\n    comm_status.blocked = false;\\n  }\\n  comm_status.event_buffer = [];\\n  if ((metadata.msg_type == \\\"Ready\\\") && metadata.content) {\\n    console.log(\\\"Python callback returned following output:\\\", metadata.content);\\n  } else if (metadata.msg_type == \\\"Error\\\") {\\n    console.log(\\\"Python failed with the following traceback:\\\", metadata.traceback)\\n  }\\n}\\n\\n// Initialize Comm\\nif ((window.PyViz == undefined) || (window.PyViz.comm_manager == undefined)) { return }\\ncomm = window.PyViz.comm_manager.get_client_comm(\\\"5693\\\", \\\"e26932d1f06a406eabf814dceb11c016\\\", on_msg);\\nif (!comm) {\\n  return\\n}\\n\\n// Initialize event queue and timeouts for Comm\\nvar comm_status = window.PyViz.comm_status[\\\"e26932d1f06a406eabf814dceb11c016\\\"];\\nif (comm_status === undefined) {\\n  comm_status = {event_buffer: [], blocked: false, time: Date.now()}\\n  window.PyViz.comm_status[\\\"e26932d1f06a406eabf814dceb11c016\\\"] = comm_status\\n}\\n\\n// Add current event to queue and process queue if not blocked\\nvar event_name = cb_obj.event_name;\\nif (event_name === undefined) {\\n  // we are a widget not an event... fake a key.\\n  event_name = Object.keys(data).join(',');\\n}\\ndata['comm_id'] = \\\"e26932d1f06a406eabf814dceb11c016\\\";\\ntimeout = comm_status.time + 20000;\\nif ((comm_status.blocked && (Date.now() < timeout))) {\\n  comm_status.event_buffer.unshift([event_name, data]);\\n} else {\\n  comm_status.event_buffer.unshift([event_name, data]);\\n  setTimeout(function() { process_events(comm_status); }, 50);\\n  comm_status.blocked = true;\\n  comm_status.time = Date.now()+50;\\n}\\n\"},\"id\":\"5699\",\"type\":\"CustomJS\"},{\"attributes\":{},\"id\":\"5738\",\"type\":\"BasicTickFormatter\"},{\"attributes\":{\"line_alpha\":0.2,\"line_color\":\"#1f77b3\",\"line_width\":2,\"x\":{\"field\":\"index\"},\"y\":{\"field\":\"value\"}},\"id\":\"5747\",\"type\":\"Line\"},{\"attributes\":{\"text\":\"\",\"text_color\":{\"value\":\"black\"},\"text_font_size\":{\"value\":\"12pt\"}},\"id\":\"5708\",\"type\":\"Title\"},{\"attributes\":{\"callback\":null,\"data\":{\"Variable\":[\"Predicted\",\"Predicted\",\"Predicted\",\"Predicted\",\"Predicted\",\"Predicted\",\"Predicted\",\"Predicted\",\"Predicted\",\"Predicted\",\"Predicted\",\"Predicted\",\"Predicted\",\"Predicted\",\"Predicted\",\"Predicted\",\"Predicted\",\"Predicted\",\"Predicted\",\"Predicted\",\"Predicted\",\"Predicted\",\"Predicted\",\"Predicted\",\"Predicted\",\"Predicted\",\"Predicted\",\"Predicted\",\"Predicted\",\"Predicted\",\"Predicted\",\"Predicted\",\"Predicted\",\"Predicted\",\"Predicted\",\"Predicted\",\"Predicted\",\"Predicted\",\"Predicted\",\"Predicted\",\"Predicted\",\"Predicted\",\"Predicted\",\"Predicted\",\"Predicted\",\"Predicted\",\"Predicted\",\"Predicted\",\"Predicted\",\"Predicted\",\"Predicted\",\"Predicted\",\"Predicted\",\"Predicted\",\"Predicted\",\"Predicted\",\"Predicted\",\"Predicted\",\"Predicted\",\"Predicted\",\"Predicted\",\"Predicted\",\"Predicted\",\"Predicted\",\"Predicted\",\"Predicted\",\"Predicted\",\"Predicted\",\"Predicted\",\"Predicted\",\"Predicted\",\"Predicted\",\"Predicted\",\"Predicted\",\"Predicted\",\"Predicted\",\"Predicted\",\"Predicted\",\"Predicted\",\"Predicted\",\"Predicted\",\"Predicted\",\"Predicted\",\"Predicted\",\"Predicted\",\"Predicted\",\"Predicted\",\"Predicted\",\"Predicted\",\"Predicted\",\"Predicted\",\"Predicted\",\"Predicted\",\"Predicted\",\"Predicted\",\"Predicted\",\"Predicted\",\"Predicted\",\"Predicted\",\"Predicted\",\"Predicted\",\"Predicted\",\"Predicted\",\"Predicted\",\"Predicted\",\"Predicted\",\"Predicted\",\"Predicted\",\"Predicted\",\"Predicted\",\"Predicted\",\"Predicted\",\"Predicted\",\"Predicted\",\"Predicted\",\"Predicted\",\"Predicted\",\"Predicted\",\"Predicted\",\"Predicted\",\"Predicted\",\"Predicted\",\"Predicted\",\"Predicted\",\"Predicted\",\"Predicted\",\"Predicted\",\"Predicted\",\"Predicted\",\"Predicted\",\"Predicted\",\"Predicted\",\"Predicted\",\"Predicted\",\"Predicted\",\"Predicted\",\"Predicted\",\"Predicted\",\"Predicted\",\"Predicted\",\"Predicted\",\"Predicted\",\"Predicted\",\"Predicted\",\"Predicted\",\"Predicted\",\"Predicted\",\"Predicted\",\"Predicted\",\"Predicted\",\"Predicted\",\"Predicted\",\"Predicted\",\"Predicted\",\"Predicted\",\"Predicted\",\"Predicted\",\"Predicted\",\"Predicted\",\"Predicted\",\"Predicted\",\"Predicted\",\"Predicted\",\"Predicted\",\"Predicted\",\"Predicted\",\"Predicted\",\"Predicted\",\"Predicted\",\"Predicted\",\"Predicted\",\"Predicted\",\"Predicted\",\"Predicted\",\"Predicted\",\"Predicted\",\"Predicted\",\"Predicted\",\"Predicted\",\"Predicted\",\"Predicted\",\"Predicted\",\"Predicted\",\"Predicted\",\"Predicted\",\"Predicted\",\"Predicted\",\"Predicted\",\"Predicted\",\"Predicted\",\"Predicted\",\"Predicted\",\"Predicted\",\"Predicted\",\"Predicted\",\"Predicted\",\"Predicted\",\"Predicted\",\"Predicted\",\"Predicted\",\"Predicted\",\"Predicted\",\"Predicted\",\"Predicted\",\"Predicted\",\"Predicted\",\"Predicted\",\"Predicted\",\"Predicted\",\"Predicted\",\"Predicted\",\"Predicted\",\"Predicted\",\"Predicted\",\"Predicted\",\"Predicted\",\"Predicted\",\"Predicted\",\"Predicted\",\"Predicted\",\"Predicted\",\"Predicted\",\"Predicted\",\"Predicted\",\"Predicted\",\"Predicted\",\"Predicted\",\"Predicted\",\"Predicted\",\"Predicted\",\"Predicted\",\"Predicted\",\"Predicted\",\"Predicted\"],\"index\":[0,1,2,3,4,5,6,7,8,9,10,11,12,13,14,15,16,17,18,19,20,21,22,23,24,25,26,27,28,29,30,31,32,33,34,35,36,37,38,39,40,41,42,43,44,45,46,47,48,49,50,51,52,53,54,55,56,57,58,59,60,61,62,63,64,65,66,67,68,69,70,71,72,73,74,75,76,77,78,79,80,81,82,83,84,85,86,87,88,89,90,91,92,93,94,95,96,97,98,99,100,101,102,103,104,105,106,107,108,109,110,111,112,113,114,115,116,117,118,119,120,121,122,123,124,125,126,127,128,129,130,131,132,133,134,135,136,137,138,139,140,141,142,143,144,145,146,147,148,149,150,151,152,153,154,155,156,157,158,159,160,161,162,163,164,165,166,167,168,169,170,171,172,173,174,175,176,177,178,179,180,181,182,183,184,185,186,187,188,189,190,191,192,193,194,195,196,197,198,199,200,201,202,203,204,205,206,207,208,209,210,211,212,213,214,215,216,217,218,219,220,221,222,223,224,225,226,227,228,229,230,231,232,233],\"value\":{\"__ndarray__\":\"FRQuPWlzMj2zpDI9qzInPUBWKD3z/Sw9tYMqPYqYIT057CM9NT0kPVo6Fz2/aRI9m+gOPXUZCz1XewY9MEkHPcwBCT3E7Qk9O6QMPZJQDz2i+BE9NaMSPbKrFT2Gjhg92zAZPf7DGz0JDSE9nK0hPSN0Iz26Aic9ffstPZYEMj0c/DE9Wo4rPcp4Iz1S2iI9dbUjPU0FIz3cZRk9iJ0NPYhxCD3bhAQ9EbkCPbDzAj2zPAM952gDPWPTAz06SwQ9NywEPb9VAz187QM9bl4FPaejBT2qXgg9ID8KPXrXCz09cQs9SCwNPcCrED0K0ww9QDgLPZSyBj3+HAQ92UQCPcv3Aj0SGwQ9jIkDPSvbAz37bwU9ZokHPZe7CT1GMQ89/TQWPWuDHT3DURw9VyAmPdVTIz1csBA9IKoNPX35Dj3Njww9lFkLPTJLCz2EdQk98mMIPaDcCD2uigk9VI8GPddNBj0+UwU9H2cEPYFRBD2NiwQ9FIwEPQp9BD0GeAM9pd4CPaV/AT3j8AA9ljkBPWanAT2D/gE9ZRcCPe0SAj3ejQE9Ai4BPX9KAT3KgQE9hJwBPVuIAT0OQwE9TjUBPYRoAT15mgE9SckBPSr9AT1u6wE9FFgBPY77AD1AMAE9JYwBPfJLAj0zOgM9Z2wDPZu7Aj1BLAI96WUCPfCaAj2eZwI9BCsCPexzAT3HfgE9P6MBPbt8AT3jYQE97V0BPc2WAT1N0AE9ixUCPYNcAj26RgI93dQBPaN+AT3EUwE9OlwBPdRxAT3ILwI9W9ECPSUTAz3LNAM9J2wDPawEAz0DWwM9Jg4EPVQ4BT0ldgQ9eOYDPbwrAz0qrwI91iYDPVhWBD3cSAU9Aa0FPdKVBT3KjQU9L8cFPfQSBz1DRgc9T8EHPWnjCD1oNgs9/MoLPfIWDj0YxhA9Y+YTPScSFj3tuxs9VlYaPfqUFT2+8hQ9Q1sXPYxgFz04fho9tTgWPYVWFD036BA95FwNPd3sDz3N9RA9wQIPPTk1Cj2d4wk9Cc4HPbTnBD0NiAQ9DXwEPc1JBD1NtQQ9VhgFPb7HBD0fMwQ93WYEPTI7BD0S3QI9SlABPcy9AD1zNgE9Z/gBPSWDAj3FrwI9C/ACPXb6Aj3KrwI9TJcBPSB8AT0OnwE9DBYCPaUTAj350wE9gnABPVLhAD1NsgA95yUBPVuoAT036AE9EisCPTfhAT2vbwE9nzwBPXx2AT0oogE9LqoBPZGCAT3/KAE9\",\"dtype\":\"float32\",\"shape\":[234]}},\"selected\":{\"id\":\"5759\",\"type\":\"Selection\"},\"selection_policy\":{\"id\":\"5783\",\"type\":\"UnionRenderers\"}},\"id\":\"5758\",\"type\":\"ColumnDataSource\"},{\"attributes\":{\"line_color\":\"#1f77b3\",\"line_width\":2,\"x\":{\"field\":\"index\"},\"y\":{\"field\":\"value\"}},\"id\":\"5745\",\"type\":\"Line\"},{\"attributes\":{\"children\":[{\"id\":\"5707\",\"subtype\":\"Figure\",\"type\":\"Plot\"}],\"margin\":[0,0,0,0],\"name\":\"Row06186\"},\"id\":\"5702\",\"type\":\"Row\"},{\"attributes\":{\"code\":\"\\nif (!window.PyViz) {\\n  return;\\n}\\nvar events = [];\\nvar receiver = window.PyViz.receivers['5693'];\\nif (receiver &&\\n        receiver._partial &&\\n        receiver._partial.content &&\\n        receiver._partial.content.events) {\\n    events = receiver._partial.content.events;\\n}\\n\\nfor (var event of events) {\\n  if ((event.kind === 'ModelChanged') && (event.attr === 'options') &&\\n      (cb_obj.id === event.model.id) &&\\n      (JSON.stringify(cb_obj['options']) === JSON.stringify(event.new))) {\\n    events.pop(events.indexOf(event))\\n    return;\\n  }\\n}\\n\\ndata = {options: cb_obj['options'], 'id': cb_obj.id};\\ncb_obj.event_name = 'options';\\n\\nfunction unique_events(events) {\\n  // Processes the event queue ignoring duplicate events\\n  // of the same type\\n  var unique = [];\\n  var unique_events = [];\\n  for (var i=0; i<events.length; i++) {\\n    var _tmpevent = events[i];\\n    event = _tmpevent[0];\\n    data = _tmpevent[1];\\n    if (unique_events.indexOf(event)===-1) {\\n      unique.unshift(data);\\n      unique_events.push(event);\\n      }\\n  }\\n  return unique;\\n}\\n\\nfunction process_events(comm_status) {\\n  // Iterates over event queue and sends events via Comm\\n  var events = unique_events(comm_status.event_buffer);\\n  for (var i=0; i<events.length; i++) {\\n    var data = events[i];\\n    var comm = window.PyViz.comms[data[\\\"comm_id\\\"]];\\n    comm.send(data);\\n  }\\n  comm_status.event_buffer = [];\\n}\\n\\nfunction on_msg(msg) {\\n  // Receives acknowledgement from Python, processing event\\n  // and unblocking Comm if event queue empty\\n  var metadata = msg.metadata;\\n  var comm_id = metadata.comm_id\\n  var comm_status = window.PyViz.comm_status[comm_id];\\n  if (comm_status.event_buffer.length) {\\n    process_events(comm_status);\\n    comm_status.blocked = true;\\n    comm_status.time = Date.now()+50;\\n  } else {\\n    comm_status.blocked = false;\\n  }\\n  comm_status.event_buffer = [];\\n  if ((metadata.msg_type == \\\"Ready\\\") && metadata.content) {\\n    console.log(\\\"Python callback returned following output:\\\", metadata.content);\\n  } else if (metadata.msg_type == \\\"Error\\\") {\\n    console.log(\\\"Python failed with the following traceback:\\\", metadata.traceback)\\n  }\\n}\\n\\n// Initialize Comm\\nif ((window.PyViz == undefined) || (window.PyViz.comm_manager == undefined)) { return }\\ncomm = window.PyViz.comm_manager.get_client_comm(\\\"5693\\\", \\\"e26932d1f06a406eabf814dceb11c016\\\", on_msg);\\nif (!comm) {\\n  return\\n}\\n\\n// Initialize event queue and timeouts for Comm\\nvar comm_status = window.PyViz.comm_status[\\\"e26932d1f06a406eabf814dceb11c016\\\"];\\nif (comm_status === undefined) {\\n  comm_status = {event_buffer: [], blocked: false, time: Date.now()}\\n  window.PyViz.comm_status[\\\"e26932d1f06a406eabf814dceb11c016\\\"] = comm_status\\n}\\n\\n// Add current event to queue and process queue if not blocked\\nvar event_name = cb_obj.event_name;\\nif (event_name === undefined) {\\n  // we are a widget not an event... fake a key.\\n  event_name = Object.keys(data).join(',');\\n}\\ndata['comm_id'] = \\\"e26932d1f06a406eabf814dceb11c016\\\";\\ntimeout = comm_status.time + 20000;\\nif ((comm_status.blocked && (Date.now() < timeout))) {\\n  comm_status.event_buffer.unshift([event_name, data]);\\n} else {\\n  comm_status.event_buffer.unshift([event_name, data]);\\n  setTimeout(function() { process_events(comm_status); }, 50);\\n  comm_status.blocked = true;\\n  comm_status.time = Date.now()+50;\\n}\\n\"},\"id\":\"5700\",\"type\":\"CustomJS\"},{\"attributes\":{},\"id\":\"5722\",\"type\":\"BasicTicker\"},{\"attributes\":{},\"id\":\"5783\",\"type\":\"UnionRenderers\"},{\"attributes\":{\"callback\":null,\"js_property_callbacks\":{\"change:disabled\":[{\"id\":\"5698\",\"type\":\"CustomJS\"}],\"change:options\":[{\"id\":\"5700\",\"type\":\"CustomJS\"}],\"change:title\":[{\"id\":\"5699\",\"type\":\"CustomJS\"}],\"change:value\":[{\"id\":\"5701\",\"type\":\"CustomJS\"}]},\"margin\":[5,10,5,10],\"options\":[\"BTC\",\"XRP\",\"XLM\",\"LTC\",\"EOS\",\"ETH\",\"BCH\",\"BSV\",\"XMR\",\"TRX\"],\"title\":\"Select Coin\",\"value\":\"BTC\"},\"id\":\"5697\",\"type\":\"Select\"},{\"attributes\":{\"bottom_units\":\"screen\",\"fill_alpha\":{\"value\":0.5},\"fill_color\":{\"value\":\"lightgrey\"},\"left_units\":\"screen\",\"level\":\"overlay\",\"line_alpha\":{\"value\":1.0},\"line_color\":{\"value\":\"black\"},\"line_dash\":[4,4],\"line_width\":{\"value\":2},\"render_mode\":\"css\",\"right_units\":\"screen\",\"top_units\":\"screen\"},\"id\":\"5755\",\"type\":\"BoxAnnotation\"},{\"attributes\":{\"code\":\"\\nif (!window.PyViz) {\\n  return;\\n}\\nvar events = [];\\nvar receiver = window.PyViz.receivers['5693'];\\nif (receiver &&\\n        receiver._partial &&\\n        receiver._partial.content &&\\n        receiver._partial.content.events) {\\n    events = receiver._partial.content.events;\\n}\\n\\nfor (var event of events) {\\n  if ((event.kind === 'ModelChanged') && (event.attr === 'value') &&\\n      (cb_obj.id === event.model.id) &&\\n      (JSON.stringify(cb_obj['value']) === JSON.stringify(event.new))) {\\n    events.pop(events.indexOf(event))\\n    return;\\n  }\\n}\\n\\ndata = {value: cb_obj['value'], 'id': cb_obj.id};\\ncb_obj.event_name = 'value';\\n\\nfunction unique_events(events) {\\n  // Processes the event queue ignoring duplicate events\\n  // of the same type\\n  var unique = [];\\n  var unique_events = [];\\n  for (var i=0; i<events.length; i++) {\\n    var _tmpevent = events[i];\\n    event = _tmpevent[0];\\n    data = _tmpevent[1];\\n    if (unique_events.indexOf(event)===-1) {\\n      unique.unshift(data);\\n      unique_events.push(event);\\n      }\\n  }\\n  return unique;\\n}\\n\\nfunction process_events(comm_status) {\\n  // Iterates over event queue and sends events via Comm\\n  var events = unique_events(comm_status.event_buffer);\\n  for (var i=0; i<events.length; i++) {\\n    var data = events[i];\\n    var comm = window.PyViz.comms[data[\\\"comm_id\\\"]];\\n    comm.send(data);\\n  }\\n  comm_status.event_buffer = [];\\n}\\n\\nfunction on_msg(msg) {\\n  // Receives acknowledgement from Python, processing event\\n  // and unblocking Comm if event queue empty\\n  var metadata = msg.metadata;\\n  var comm_id = metadata.comm_id\\n  var comm_status = window.PyViz.comm_status[comm_id];\\n  if (comm_status.event_buffer.length) {\\n    process_events(comm_status);\\n    comm_status.blocked = true;\\n    comm_status.time = Date.now()+50;\\n  } else {\\n    comm_status.blocked = false;\\n  }\\n  comm_status.event_buffer = [];\\n  if ((metadata.msg_type == \\\"Ready\\\") && metadata.content) {\\n    console.log(\\\"Python callback returned following output:\\\", metadata.content);\\n  } else if (metadata.msg_type == \\\"Error\\\") {\\n    console.log(\\\"Python failed with the following traceback:\\\", metadata.traceback)\\n  }\\n}\\n\\n// Initialize Comm\\nif ((window.PyViz == undefined) || (window.PyViz.comm_manager == undefined)) { return }\\ncomm = window.PyViz.comm_manager.get_client_comm(\\\"5693\\\", \\\"e26932d1f06a406eabf814dceb11c016\\\", on_msg);\\nif (!comm) {\\n  return\\n}\\n\\n// Initialize event queue and timeouts for Comm\\nvar comm_status = window.PyViz.comm_status[\\\"e26932d1f06a406eabf814dceb11c016\\\"];\\nif (comm_status === undefined) {\\n  comm_status = {event_buffer: [], blocked: false, time: Date.now()}\\n  window.PyViz.comm_status[\\\"e26932d1f06a406eabf814dceb11c016\\\"] = comm_status\\n}\\n\\n// Add current event to queue and process queue if not blocked\\nvar event_name = cb_obj.event_name;\\nif (event_name === undefined) {\\n  // we are a widget not an event... fake a key.\\n  event_name = Object.keys(data).join(',');\\n}\\ndata['comm_id'] = \\\"e26932d1f06a406eabf814dceb11c016\\\";\\ntimeout = comm_status.time + 20000;\\nif ((comm_status.blocked && (Date.now() < timeout))) {\\n  comm_status.event_buffer.unshift([event_name, data]);\\n} else {\\n  comm_status.event_buffer.unshift([event_name, data]);\\n  setTimeout(function() { process_events(comm_status); }, 50);\\n  comm_status.blocked = true;\\n  comm_status.time = Date.now()+50;\\n}\\n\"},\"id\":\"5701\",\"type\":\"CustomJS\"},{\"attributes\":{\"active_drag\":\"auto\",\"active_inspect\":\"auto\",\"active_multi\":null,\"active_scroll\":\"auto\",\"active_tap\":\"auto\",\"tools\":[{\"id\":\"5705\",\"type\":\"HoverTool\"},{\"id\":\"5726\",\"type\":\"SaveTool\"},{\"id\":\"5727\",\"type\":\"PanTool\"},{\"id\":\"5728\",\"type\":\"WheelZoomTool\"},{\"id\":\"5729\",\"type\":\"BoxZoomTool\"},{\"id\":\"5730\",\"type\":\"ResetTool\"}]},\"id\":\"5731\",\"type\":\"Toolbar\"},{\"attributes\":{\"callback\":null,\"end\":233.0,\"reset_end\":233.0,\"reset_start\":0.0,\"tags\":[[[\"index\",\"index\",null]]]},\"id\":\"5703\",\"type\":\"Range1d\"},{\"attributes\":{\"code\":\"\\nif (!window.PyViz) {\\n  return;\\n}\\nvar events = [];\\nvar receiver = window.PyViz.receivers['5693'];\\nif (receiver &&\\n        receiver._partial &&\\n        receiver._partial.content &&\\n        receiver._partial.content.events) {\\n    events = receiver._partial.content.events;\\n}\\n\\nfor (var event of events) {\\n  if ((event.kind === 'ModelChanged') && (event.attr === 'disabled') &&\\n      (cb_obj.id === event.model.id) &&\\n      (JSON.stringify(cb_obj['disabled']) === JSON.stringify(event.new))) {\\n    events.pop(events.indexOf(event))\\n    return;\\n  }\\n}\\n\\ndata = {disabled: cb_obj['disabled'], 'id': cb_obj.id};\\ncb_obj.event_name = 'disabled';\\n\\nfunction unique_events(events) {\\n  // Processes the event queue ignoring duplicate events\\n  // of the same type\\n  var unique = [];\\n  var unique_events = [];\\n  for (var i=0; i<events.length; i++) {\\n    var _tmpevent = events[i];\\n    event = _tmpevent[0];\\n    data = _tmpevent[1];\\n    if (unique_events.indexOf(event)===-1) {\\n      unique.unshift(data);\\n      unique_events.push(event);\\n      }\\n  }\\n  return unique;\\n}\\n\\nfunction process_events(comm_status) {\\n  // Iterates over event queue and sends events via Comm\\n  var events = unique_events(comm_status.event_buffer);\\n  for (var i=0; i<events.length; i++) {\\n    var data = events[i];\\n    var comm = window.PyViz.comms[data[\\\"comm_id\\\"]];\\n    comm.send(data);\\n  }\\n  comm_status.event_buffer = [];\\n}\\n\\nfunction on_msg(msg) {\\n  // Receives acknowledgement from Python, processing event\\n  // and unblocking Comm if event queue empty\\n  var metadata = msg.metadata;\\n  var comm_id = metadata.comm_id\\n  var comm_status = window.PyViz.comm_status[comm_id];\\n  if (comm_status.event_buffer.length) {\\n    process_events(comm_status);\\n    comm_status.blocked = true;\\n    comm_status.time = Date.now()+50;\\n  } else {\\n    comm_status.blocked = false;\\n  }\\n  comm_status.event_buffer = [];\\n  if ((metadata.msg_type == \\\"Ready\\\") && metadata.content) {\\n    console.log(\\\"Python callback returned following output:\\\", metadata.content);\\n  } else if (metadata.msg_type == \\\"Error\\\") {\\n    console.log(\\\"Python failed with the following traceback:\\\", metadata.traceback)\\n  }\\n}\\n\\n// Initialize Comm\\nif ((window.PyViz == undefined) || (window.PyViz.comm_manager == undefined)) { return }\\ncomm = window.PyViz.comm_manager.get_client_comm(\\\"5693\\\", \\\"e26932d1f06a406eabf814dceb11c016\\\", on_msg);\\nif (!comm) {\\n  return\\n}\\n\\n// Initialize event queue and timeouts for Comm\\nvar comm_status = window.PyViz.comm_status[\\\"e26932d1f06a406eabf814dceb11c016\\\"];\\nif (comm_status === undefined) {\\n  comm_status = {event_buffer: [], blocked: false, time: Date.now()}\\n  window.PyViz.comm_status[\\\"e26932d1f06a406eabf814dceb11c016\\\"] = comm_status\\n}\\n\\n// Add current event to queue and process queue if not blocked\\nvar event_name = cb_obj.event_name;\\nif (event_name === undefined) {\\n  // we are a widget not an event... fake a key.\\n  event_name = Object.keys(data).join(',');\\n}\\ndata['comm_id'] = \\\"e26932d1f06a406eabf814dceb11c016\\\";\\ntimeout = comm_status.time + 20000;\\nif ((comm_status.blocked && (Date.now() < timeout))) {\\n  comm_status.event_buffer.unshift([event_name, data]);\\n} else {\\n  comm_status.event_buffer.unshift([event_name, data]);\\n  setTimeout(function() { process_events(comm_status); }, 50);\\n  comm_status.blocked = true;\\n  comm_status.time = Date.now()+50;\\n}\\n\"},\"id\":\"5698\",\"type\":\"CustomJS\"},{\"attributes\":{\"grid_line_color\":null,\"ticker\":{\"id\":\"5717\",\"type\":\"BasicTicker\"}},\"id\":\"5720\",\"type\":\"Grid\"},{\"attributes\":{},\"id\":\"5717\",\"type\":\"BasicTicker\"},{\"attributes\":{},\"id\":\"5759\",\"type\":\"Selection\"},{\"attributes\":{},\"id\":\"5712\",\"type\":\"LinearScale\"},{\"attributes\":{},\"id\":\"5772\",\"type\":\"UnionRenderers\"},{\"attributes\":{\"click_policy\":\"mute\",\"items\":[{\"id\":\"5757\",\"type\":\"LegendItem\"},{\"id\":\"5774\",\"type\":\"LegendItem\"}],\"location\":[0,0],\"orientation\":\"horizontal\"},\"id\":\"5756\",\"type\":\"Legend\"},{\"attributes\":{},\"id\":\"5743\",\"type\":\"Selection\"},{\"attributes\":{\"source\":{\"id\":\"5758\",\"type\":\"ColumnDataSource\"}},\"id\":\"5765\",\"type\":\"CDSView\"},{\"attributes\":{\"margin\":[5,5,5,5],\"name\":\"Markdown06189\",\"text\":\"<h1>LSTM</h1>\"},\"id\":\"5694\",\"type\":\"Div\"},{\"attributes\":{\"data_source\":{\"id\":\"5758\",\"type\":\"ColumnDataSource\"},\"glyph\":{\"id\":\"5761\",\"type\":\"Line\"},\"hover_glyph\":null,\"muted_glyph\":{\"id\":\"5763\",\"type\":\"Line\"},\"nonselection_glyph\":{\"id\":\"5762\",\"type\":\"Line\"},\"selection_glyph\":null,\"view\":{\"id\":\"5765\",\"type\":\"CDSView\"}},\"id\":\"5764\",\"type\":\"GlyphRenderer\"},{\"attributes\":{\"axis_label\":\"Date\",\"bounds\":\"auto\",\"formatter\":{\"id\":\"5738\",\"type\":\"BasicTickFormatter\"},\"major_label_orientation\":\"horizontal\",\"ticker\":{\"id\":\"5717\",\"type\":\"BasicTicker\"}},\"id\":\"5716\",\"type\":\"LinearAxis\"},{\"attributes\":{\"line_alpha\":0.2,\"line_color\":\"#ff7e0e\",\"line_width\":2,\"x\":{\"field\":\"index\"},\"y\":{\"field\":\"value\"}},\"id\":\"5763\",\"type\":\"Line\"},{\"attributes\":{\"above\":[{\"id\":\"5756\",\"type\":\"Legend\"}],\"align\":null,\"below\":[{\"id\":\"5716\",\"type\":\"LinearAxis\"}],\"center\":[{\"id\":\"5720\",\"type\":\"Grid\"},{\"id\":\"5725\",\"type\":\"Grid\"},{\"id\":\"5756\",\"type\":\"Legend\"}],\"left\":[{\"id\":\"5721\",\"type\":\"LinearAxis\"}],\"margin\":null,\"min_border_bottom\":10,\"min_border_left\":10,\"min_border_right\":10,\"min_border_top\":10,\"plot_height\":400,\"plot_width\":800,\"renderers\":[{\"id\":\"5748\",\"type\":\"GlyphRenderer\"},{\"id\":\"5764\",\"type\":\"GlyphRenderer\"}],\"sizing_mode\":\"fixed\",\"title\":{\"id\":\"5708\",\"type\":\"Title\"},\"toolbar\":{\"id\":\"5731\",\"type\":\"Toolbar\"},\"x_range\":{\"id\":\"5703\",\"type\":\"Range1d\"},\"x_scale\":{\"id\":\"5712\",\"type\":\"LinearScale\"},\"y_range\":{\"id\":\"5704\",\"type\":\"Range1d\"},\"y_scale\":{\"id\":\"5714\",\"type\":\"LinearScale\"}},\"id\":\"5707\",\"subtype\":\"Figure\",\"type\":\"Plot\"},{\"attributes\":{},\"id\":\"5714\",\"type\":\"LinearScale\"},{\"attributes\":{\"children\":[{\"id\":\"5694\",\"type\":\"Div\"},{\"id\":\"5695\",\"type\":\"Row\"}],\"margin\":[0,0,0,0],\"name\":\"Column06191\"},\"id\":\"5693\",\"type\":\"Column\"},{\"attributes\":{\"axis_label\":\"Volatility\",\"bounds\":\"auto\",\"formatter\":{\"id\":\"5740\",\"type\":\"BasicTickFormatter\"},\"major_label_orientation\":\"horizontal\",\"ticker\":{\"id\":\"5722\",\"type\":\"BasicTicker\"}},\"id\":\"5721\",\"type\":\"LinearAxis\"},{\"attributes\":{\"label\":{\"value\":\"Real\"},\"renderers\":[{\"id\":\"5748\",\"type\":\"GlyphRenderer\"}]},\"id\":\"5757\",\"type\":\"LegendItem\"},{\"attributes\":{\"label\":{\"value\":\"Predicted\"},\"renderers\":[{\"id\":\"5764\",\"type\":\"GlyphRenderer\"}]},\"id\":\"5774\",\"type\":\"LegendItem\"},{\"attributes\":{},\"id\":\"5726\",\"type\":\"SaveTool\"},{\"attributes\":{\"data_source\":{\"id\":\"5742\",\"type\":\"ColumnDataSource\"},\"glyph\":{\"id\":\"5745\",\"type\":\"Line\"},\"hover_glyph\":null,\"muted_glyph\":{\"id\":\"5747\",\"type\":\"Line\"},\"nonselection_glyph\":{\"id\":\"5746\",\"type\":\"Line\"},\"selection_glyph\":null,\"view\":{\"id\":\"5749\",\"type\":\"CDSView\"}},\"id\":\"5748\",\"type\":\"GlyphRenderer\"},{\"attributes\":{},\"id\":\"5727\",\"type\":\"PanTool\"},{\"attributes\":{\"overlay\":{\"id\":\"5755\",\"type\":\"BoxAnnotation\"}},\"id\":\"5729\",\"type\":\"BoxZoomTool\"},{\"attributes\":{\"source\":{\"id\":\"5742\",\"type\":\"ColumnDataSource\"}},\"id\":\"5749\",\"type\":\"CDSView\"},{\"attributes\":{\"children\":[{\"id\":\"5696\",\"type\":\"Column\"},{\"id\":\"5702\",\"type\":\"Row\"}],\"margin\":[0,0,0,0],\"name\":\"Row06188\"},\"id\":\"5695\",\"type\":\"Row\"},{\"attributes\":{},\"id\":\"5728\",\"type\":\"WheelZoomTool\"},{\"attributes\":{\"line_alpha\":0.1,\"line_color\":\"#ff7e0e\",\"line_width\":2,\"x\":{\"field\":\"index\"},\"y\":{\"field\":\"value\"}},\"id\":\"5762\",\"type\":\"Line\"}],\"root_ids\":[\"5693\"]},\"title\":\"Bokeh Application\",\"version\":\"1.4.0\"}};\n",
       "  var render_items = [{\"docid\":\"bfaa57fb-61f2-4236-9c35-4eca0a531b9e\",\"roots\":{\"5693\":\"5bb3ef1d-5dae-4de8-98da-f69075e44ceb\"}}];\n",
       "  root.Bokeh.embed.embed_items_notebook(docs_json, render_items);\n",
       "\n",
       "  }\n",
       "  if (root.Bokeh !== undefined) {\n",
       "    embed_document(root);\n",
       "  } else {\n",
       "    var attempts = 0;\n",
       "    var timer = setInterval(function(root) {\n",
       "      if (root.Bokeh !== undefined) {\n",
       "        clearInterval(timer);\n",
       "        embed_document(root);\n",
       "      } else {\n",
       "        attempts++;\n",
       "        if (attempts > 100) {\n",
       "          clearInterval(timer);\n",
       "          console.log(\"Bokeh: ERROR: Unable to run BokehJS code because BokehJS library is missing\");\n",
       "        }\n",
       "      }\n",
       "    }, 10, root)\n",
       "  }\n",
       "})(window);</script>"
      ],
      "text/plain": [
       "Column\n",
       "    [0] Markdown(str)\n",
       "    [1] Row\n",
       "        [0] Column\n",
       "            [0] Select(options=['BTC', 'XRP', ...], value='BTC')\n",
       "        [1] Row\n",
       "            [0] HoloViews(NdOverlay, name='interactive06136')"
      ]
     },
     "execution_count": 83,
     "metadata": {
      "application/vnd.holoviews_exec.v0+json": {
       "id": "5693"
      }
     },
     "output_type": "execute_result"
    }
   ],
   "source": [
    "column=pn.Column('#LSTM',pn.Row(layout[0],layout[1]))\n",
    "column"
   ]
  }
 ],
 "metadata": {
  "kernelspec": {
   "display_name": "Python 3",
   "language": "python",
   "name": "python3"
  },
  "language_info": {
   "codemirror_mode": {
    "name": "ipython",
    "version": 3
   },
   "file_extension": ".py",
   "mimetype": "text/x-python",
   "name": "python",
   "nbconvert_exporter": "python",
   "pygments_lexer": "ipython3",
   "version": "3.7.4"
  }
 },
 "nbformat": 4,
 "nbformat_minor": 4
}
