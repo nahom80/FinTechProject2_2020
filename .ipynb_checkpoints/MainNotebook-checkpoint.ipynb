{
 "cells": [
  {
   "cell_type": "code",
   "execution_count": 153,
   "metadata": {},
   "outputs": [],
   "source": [
    "import pandas as pd\n",
    "import pickle"
   ]
  },
  {
   "cell_type": "code",
   "execution_count": 154,
   "metadata": {},
   "outputs": [
    {
     "name": "stderr",
     "output_type": "stream",
     "text": [
      "[nltk_data] Downloading package vader_lexicon to\n",
      "[nltk_data]     D:\\Users\\StealthHindu\\AppData\\Roaming\\nltk_data...\n",
      "[nltk_data]   Package vader_lexicon is already up-to-date!\n"
     ]
    }
   ],
   "source": [
    "import nltk\n",
    "from nltk.sentiment.vader import SentimentIntensityAnalyzer\n",
    "\n",
    "# Download/Update the VADER Lexicon\n",
    "nltk.download('vader_lexicon')\n",
    "\n",
    "# Initialize the VADER sentiment analyzer\n",
    "analyzer = SentimentIntensityAnalyzer()\n",
    "\n",
    "def retVComp(text):\n",
    "    \"\"\"\n",
    "        Accepts a string of text and Returns compound from polarity scoring in the form of a FLOAT\n",
    "    \"\"\"\n",
    "    return analyzer.polarity_scores(text)['compound']\n",
    "\n"
   ]
  },
  {
   "cell_type": "code",
   "execution_count": 155,
   "metadata": {
    "scrolled": true
   },
   "outputs": [],
   "source": [
    "#### READS PICKLE FROM DISK\n",
    "\n",
    "\n",
    "dbfile = open('Archive01.pickle', 'rb')      \n",
    "db = pickle.load(dbfile) \n",
    "#for keys in db: \n",
    "    #print(keys, '=>', db[keys]) \n",
    "dbfile.close() "
   ]
  },
  {
   "cell_type": "code",
   "execution_count": 156,
   "metadata": {},
   "outputs": [],
   "source": [
    "def evalTweetObj(dct):\n",
    "    for key in dct:\n",
    "        print(key)\n",
    "        print(f\"\\t GetTwtObjs Count:{len(dct[key])}\")\n",
    "        \n",
    "        totaltweets = 0\n",
    "        totalText = 0\n",
    "        totalBlankTexts = 0\n",
    "        for item in dct[key]:\n",
    "            totaltweets += len(item)\n",
    "            \n",
    "            for tweet in item:\n",
    "                totalText += len(tweet.text)    \n",
    "            if len(tweet.text) == 0:\n",
    "                totalBlankTexts += 1\n",
    "            \n",
    "        print(f\"\\t Total Tweets: {totaltweets}\")\n",
    "        print(f\"\\t Total chars across tweets: {totalText}\")\n",
    "        print(f\"\\t Blank Tweets: {totalBlankTexts}\")\n",
    "    "
   ]
  },
  {
   "cell_type": "code",
   "execution_count": 157,
   "metadata": {},
   "outputs": [
    {
     "name": "stdout",
     "output_type": "stream",
     "text": [
      "BTC\n",
      "\t GetTwtObjs Count:12\n",
      "\t Total Tweets: 120\n",
      "\t Total chars across tweets: 12456\n",
      "\t Blank Tweets: 0\n"
     ]
    }
   ],
   "source": [
    "evalTweetObj(db)"
   ]
  },
  {
   "cell_type": "code",
   "execution_count": 158,
   "metadata": {},
   "outputs": [
    {
     "name": "stdout",
     "output_type": "stream",
     "text": [
      "3\n",
      "2017-01-30 14:26:27+00:00\n",
      "0\n",
      "aantonop\n",
      "How do you define \"efficient\"? Bitcoin mining delivers robust global security in a very competitive environment\n"
     ]
    }
   ],
   "source": [
    "print(db['BTC'][0][0].replies)\n",
    "print(db['BTC'][0][0].date)\n",
    "print(db['BTC'][0][0].retweets)\n",
    "print(db['BTC'][0][0].username)\n",
    "print(db['BTC'][0][0].text)"
   ]
  },
  {
   "cell_type": "code",
   "execution_count": 159,
   "metadata": {},
   "outputs": [],
   "source": [
    "\n",
    "def retDataFrameFromTwtDct(dctTweets):\n",
    "    df = pd.DataFrame(columns=['Coin','Date','username','Sentiment','retweets','replies'])\n",
    "    \n",
    "    for key in dctTweets:\n",
    "        for twtObj in dctTweets[key]:\n",
    "            for twt in twtObj:\n",
    "                dct = retTweetInfo(key,twt)                \n",
    "                df = df.append(dct,ignore_index=True)\n",
    "    return df\n",
    "\n",
    "\n",
    "def retTweetInfo(headcol,tweet):\n",
    "    dct = {\n",
    "            'Coin' : 'BTC',\n",
    "            'Date' : tweet.date.date(),\n",
    "            'username' : tweet.username,\n",
    "            'Sentiment' : retVComp(tweet.text),\n",
    "            'retweets' : tweet.retweets,\n",
    "            'replies' : tweet.replies\n",
    "}\n",
    "    return dct\n",
    "    \n",
    "    #df = pd.DataFrame([lst],columns=['Coin','Date','username','Sentiment','retweets','replies'])        "
   ]
  },
  {
   "cell_type": "code",
   "execution_count": 160,
   "metadata": {
    "scrolled": false
   },
   "outputs": [
    {
     "data": {
      "text/html": [
       "<div>\n",
       "<style scoped>\n",
       "    .dataframe tbody tr th:only-of-type {\n",
       "        vertical-align: middle;\n",
       "    }\n",
       "\n",
       "    .dataframe tbody tr th {\n",
       "        vertical-align: top;\n",
       "    }\n",
       "\n",
       "    .dataframe thead th {\n",
       "        text-align: right;\n",
       "    }\n",
       "</style>\n",
       "<table border=\"1\" class=\"dataframe\">\n",
       "  <thead>\n",
       "    <tr style=\"text-align: right;\">\n",
       "      <th></th>\n",
       "      <th>Coin</th>\n",
       "      <th>Date</th>\n",
       "      <th>username</th>\n",
       "      <th>Sentiment</th>\n",
       "      <th>retweets</th>\n",
       "      <th>replies</th>\n",
       "    </tr>\n",
       "  </thead>\n",
       "  <tbody>\n",
       "    <tr>\n",
       "      <td>0</td>\n",
       "      <td>BTC</td>\n",
       "      <td>2017-01-30</td>\n",
       "      <td>aantonop</td>\n",
       "      <td>0.6997</td>\n",
       "      <td>0</td>\n",
       "      <td>3</td>\n",
       "    </tr>\n",
       "    <tr>\n",
       "      <td>1</td>\n",
       "      <td>BTC</td>\n",
       "      <td>2017-01-28</td>\n",
       "      <td>aantonop</td>\n",
       "      <td>-0.2960</td>\n",
       "      <td>45</td>\n",
       "      <td>2</td>\n",
       "    </tr>\n",
       "    <tr>\n",
       "      <td>2</td>\n",
       "      <td>BTC</td>\n",
       "      <td>2017-01-28</td>\n",
       "      <td>aantonop</td>\n",
       "      <td>0.0000</td>\n",
       "      <td>47</td>\n",
       "      <td>5</td>\n",
       "    </tr>\n",
       "    <tr>\n",
       "      <td>3</td>\n",
       "      <td>BTC</td>\n",
       "      <td>2017-01-26</td>\n",
       "      <td>aantonop</td>\n",
       "      <td>-0.4767</td>\n",
       "      <td>46</td>\n",
       "      <td>4</td>\n",
       "    </tr>\n",
       "    <tr>\n",
       "      <td>4</td>\n",
       "      <td>BTC</td>\n",
       "      <td>2017-01-24</td>\n",
       "      <td>aantonop</td>\n",
       "      <td>0.0000</td>\n",
       "      <td>23</td>\n",
       "      <td>1</td>\n",
       "    </tr>\n",
       "    <tr>\n",
       "      <td>...</td>\n",
       "      <td>...</td>\n",
       "      <td>...</td>\n",
       "      <td>...</td>\n",
       "      <td>...</td>\n",
       "      <td>...</td>\n",
       "      <td>...</td>\n",
       "    </tr>\n",
       "    <tr>\n",
       "      <td>115</td>\n",
       "      <td>BTC</td>\n",
       "      <td>2017-12-28</td>\n",
       "      <td>aantonop</td>\n",
       "      <td>0.0000</td>\n",
       "      <td>69</td>\n",
       "      <td>14</td>\n",
       "    </tr>\n",
       "    <tr>\n",
       "      <td>116</td>\n",
       "      <td>BTC</td>\n",
       "      <td>2017-12-27</td>\n",
       "      <td>aantonop</td>\n",
       "      <td>0.0000</td>\n",
       "      <td>88</td>\n",
       "      <td>26</td>\n",
       "    </tr>\n",
       "    <tr>\n",
       "      <td>117</td>\n",
       "      <td>BTC</td>\n",
       "      <td>2017-12-27</td>\n",
       "      <td>aantonop</td>\n",
       "      <td>-0.1243</td>\n",
       "      <td>2</td>\n",
       "      <td>6</td>\n",
       "    </tr>\n",
       "    <tr>\n",
       "      <td>118</td>\n",
       "      <td>BTC</td>\n",
       "      <td>2017-12-26</td>\n",
       "      <td>aantonop</td>\n",
       "      <td>0.0000</td>\n",
       "      <td>0</td>\n",
       "      <td>2</td>\n",
       "    </tr>\n",
       "    <tr>\n",
       "      <td>119</td>\n",
       "      <td>BTC</td>\n",
       "      <td>2017-12-25</td>\n",
       "      <td>aantonop</td>\n",
       "      <td>0.0000</td>\n",
       "      <td>0</td>\n",
       "      <td>2</td>\n",
       "    </tr>\n",
       "  </tbody>\n",
       "</table>\n",
       "<p>120 rows × 6 columns</p>\n",
       "</div>"
      ],
      "text/plain": [
       "    Coin        Date  username  Sentiment retweets replies\n",
       "0    BTC  2017-01-30  aantonop     0.6997        0       3\n",
       "1    BTC  2017-01-28  aantonop    -0.2960       45       2\n",
       "2    BTC  2017-01-28  aantonop     0.0000       47       5\n",
       "3    BTC  2017-01-26  aantonop    -0.4767       46       4\n",
       "4    BTC  2017-01-24  aantonop     0.0000       23       1\n",
       "..   ...         ...       ...        ...      ...     ...\n",
       "115  BTC  2017-12-28  aantonop     0.0000       69      14\n",
       "116  BTC  2017-12-27  aantonop     0.0000       88      26\n",
       "117  BTC  2017-12-27  aantonop    -0.1243        2       6\n",
       "118  BTC  2017-12-26  aantonop     0.0000        0       2\n",
       "119  BTC  2017-12-25  aantonop     0.0000        0       2\n",
       "\n",
       "[120 rows x 6 columns]"
      ]
     },
     "execution_count": 160,
     "metadata": {},
     "output_type": "execute_result"
    }
   ],
   "source": [
    "myDF = retDataFrameFromTwtDct(db)\n",
    "myDF"
   ]
  },
  {
   "cell_type": "code",
   "execution_count": 161,
   "metadata": {},
   "outputs": [],
   "source": [
    "#df = pd.DataFrame(columns=['Coin','Date','username','Sentiment','retweets','replies'])\n",
    "#dct = retTweetInfo('BTC', db['BTC'][0][0])\n",
    "#df = df.append(dct,ignore_index=True)\n",
    "#df"
   ]
  },
  {
   "cell_type": "code",
   "execution_count": 162,
   "metadata": {},
   "outputs": [],
   "source": [
    "#lst = ['BTC']\n",
    "#lst = lst.append(retTweetInfo(db['BTC'][0][0]))\n",
    "#lst\n",
    "\n",
    "#lst = [1,2,3,4,5,6]\n",
    "#df = pd.DataFrame([lst],columns=['Coin','Date','username','Sentiment','retweets','replies'])"
   ]
  },
  {
   "cell_type": "code",
   "execution_count": null,
   "metadata": {},
   "outputs": [],
   "source": []
  },
  {
   "cell_type": "code",
   "execution_count": null,
   "metadata": {},
   "outputs": [],
   "source": []
  }
 ],
 "metadata": {
  "kernelspec": {
   "display_name": "Python 3",
   "language": "python",
   "name": "python3"
  },
  "language_info": {
   "codemirror_mode": {
    "name": "ipython",
    "version": 3
   },
   "file_extension": ".py",
   "mimetype": "text/x-python",
   "name": "python",
   "nbconvert_exporter": "python",
   "pygments_lexer": "ipython3",
   "version": "3.7.4"
  }
 },
 "nbformat": 4,
 "nbformat_minor": 2
}
