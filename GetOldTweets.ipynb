{
 "cells": [
  {
   "cell_type": "code",
   "execution_count": 147,
   "metadata": {},
   "outputs": [],
   "source": [
    "import GetOldTweets3 as got"
   ]
  },
  {
   "cell_type": "code",
   "execution_count": 176,
   "metadata": {},
   "outputs": [],
   "source": [
    "\n",
    "twitterUsers = [\n",
    "    'aantonop','rogerkver','cointelegraph'\n",
    "]\n",
    "    #,'venturecoinist','rogerkver','cointelegraph','crypto'\n",
    "\n",
    "#     'PhilakoneCrypto','VitalikButerin','SatoshiLite','laurashin','cryptomanran','Excellion','AriDavidPaul',\n",
    "#     'iamjosephyoung','jihanwu','CoinDeskMarkets','fluffypony','cryptodemedici','NickSzabo4','lawmaster',\n",
    "#     'mdudas','timccopeland','cz_binance','woonomic','fintechfrank','blocksdecoded'\n",
    "# ]\n",
    "\n",
    "cryptoAliases = {\n",
    "    'BTC' : \"BTC OR bitcoin\",\n",
    "    'ETH' : \"ETH OR ethereum\"\n",
    "}\n",
    "#     'XRP' : \"XRP OR ripple OR xrapid\",\n",
    "#     'LTC' : \"LTC OR litecoin\",\n",
    "#     'EOS' : \"EOS\",\n",
    "#     'BCH' : \"BCH OR bitcoin cash\",\n",
    "#     'BSV' : \"BSV OR bitcoin sv\",\n",
    "#     'XMR' : \"XMR OR monero\",\n",
    "#     'TRX' : \"TRX OR tronix\",\n",
    "#     'XML' : \"XML OR stellar OR lumens\",\n",
    "#     'BNB' : \"BNB OR binance OR binance coin\"\n",
    "# }\n",
    "\n",
    "\n"
   ]
  },
  {
   "cell_type": "code",
   "execution_count": null,
   "metadata": {},
   "outputs": [],
   "source": []
  },
  {
   "cell_type": "code",
   "execution_count": 177,
   "metadata": {},
   "outputs": [],
   "source": [
    "def getTweets(q,tWinA,tWinB,maxT,tUser):\n",
    "    tweetCriteria = got.manager.TweetCriteria().setQuerySearch(q)\\\n",
    "                                            .setSince(tWinA)\\\n",
    "                                            .setUntil(tWinB)\\\n",
    "                                            .setMaxTweets(maxT)\\\n",
    "                                            .setUsername(tUser)\n",
    "    \n",
    "    tweets = got.manager.TweetManager.getTweets(tweetCriteria)\n",
    "\n",
    "    #print(f\"Count: {len(tweets)}\")\n",
    "    \n",
    "    return tweets\n"
   ]
  },
  {
   "cell_type": "code",
   "execution_count": 186,
   "metadata": {},
   "outputs": [
    {
     "data": {
      "text/plain": [
       "{'2019': [31, 28, 31, 30, 31, 30, 31, 31, 30, 31, 30, 31],\n",
       " '2020': [31, 29, 31, 30, 31, 30, 31, 31, 30, 31, 30, 31]}"
      ]
     },
     "execution_count": 186,
     "metadata": {},
     "output_type": "execute_result"
    }
   ],
   "source": [
    "# Creats a dictionary of total days in a month in a given year for later iteration\n",
    "\n",
    "from calendar import monthrange\n",
    "\n",
    "#timeRangeYears = ['2017','2018','2019','2020']\n",
    "timeRangeYears = ['2019','2020']\n",
    "\n",
    "dctMDays = {}\n",
    "\n",
    "for year in timeRangeYears:\n",
    "    currYeardays = []\n",
    "    \n",
    "    for i in range(1,13):\n",
    "        currYeardays.append(monthrange(int(year), i)[1])\n",
    "    \n",
    "    dctMDays[year] = currYeardays\n",
    "        \n",
    "dctMDays"
   ]
  },
  {
   "cell_type": "code",
   "execution_count": null,
   "metadata": {},
   "outputs": [],
   "source": []
  },
  {
   "cell_type": "code",
   "execution_count": 187,
   "metadata": {},
   "outputs": [
    {
     "name": "stdout",
     "output_type": "stream",
     "text": [
      "144\n",
      "Wall time: 3min 50s\n"
     ]
    }
   ],
   "source": [
    "%%time\n",
    "\n",
    "dctOfTweetObjects = {}\n",
    "iterCount = 0\n",
    "tMax = 200\n",
    "\n",
    "for crypto in cryptoAliases:  ## Iterates through all Crypto search terms.\n",
    "    lstCryptoTwts = []\n",
    "    \n",
    "    for user in twitterUsers:\n",
    "        for cYear in dctMDays:\n",
    "            mnth = 1 #keeps track of month\n",
    "                \n",
    "            for mDays in dctMDays[cYear]:    ###### iterates through each month\n",
    "                    cRange = [f\"{cYear}-{mnth}-1\",f\"{cYear}-{mnth}-{mDays}\"]\n",
    "                    mnth += 1\n",
    "        \n",
    "                    #print (f\"{cryptoAliases[crypto]} : {cRange[0]} : {cRange[1]} : {tMax} : {user}\" ) # DEBUG\n",
    "                    lstCryptoTwts.append( getTweets(cryptoAliases[crypto],cRange[0],cRange[1],tMax,user) )\n",
    "                    iterCount +=1 # debug purposes\n",
    "    dctOfTweetObjects[crypto] = lstCryptoTwts\n",
    "                    \n",
    "\n",
    "print (iterCount) # debug"
   ]
  },
  {
   "cell_type": "code",
   "execution_count": 182,
   "metadata": {},
   "outputs": [],
   "source": [
    "def evalTweetObj(dct):\n",
    "    for key in dct:\n",
    "        print(key)\n",
    "        print(f\"\\t GetTwtObjs Count:{len(dct[key])}\")\n",
    "        \n",
    "        totaltweets = 0\n",
    "        totalText = 0\n",
    "        totalBlankTexts = 0\n",
    "        for item in dct[key]:\n",
    "            totaltweets += len(item)\n",
    "            \n",
    "            for tweet in item:\n",
    "                totalText += len(tweet.text)    \n",
    "            if len(tweet.text) == 0:\n",
    "                totalBlankTexts += 1\n",
    "            \n",
    "        print(f\"\\t Total Tweets: {totaltweets}\")\n",
    "        print(f\"\\t Total chars across tweets: {totalText}\")\n",
    "        print(f\"\\t Blank Tweets: {totalBlankTexts}\")\n",
    "    "
   ]
  },
  {
   "cell_type": "code",
   "execution_count": 185,
   "metadata": {
    "scrolled": true
   },
   "outputs": [
    {
     "name": "stdout",
     "output_type": "stream",
     "text": [
      "BTC\n",
      "\t GetTwtObjs Count:36\n",
      "\t Total Tweets: 2674\n",
      "\t Total chars across tweets: 262233\n",
      "\t Blank Tweets: 0\n",
      "ETH\n",
      "\t GetTwtObjs Count:36\n",
      "\t Total Tweets: 746\n",
      "\t Total chars across tweets: 79215\n",
      "\t Blank Tweets: 0\n"
     ]
    }
   ],
   "source": [
    "evalTweetObj(dctOfTweetObjects)"
   ]
  },
  {
   "cell_type": "code",
   "execution_count": 145,
   "metadata": {},
   "outputs": [],
   "source": [
    "## Can save down the dictionaries to disk\n",
    "\n",
    "import pickle\n",
    "#Archive01 = dctOfTweetObjects\n",
    "\n",
    "Arcfile = open('Archive01.pickle', 'ab') \n",
    "# source, destination \n",
    "pickle.dump(Archive01 , Arcfile)                      \n",
    "Arcfile.close() \n",
    "\n",
    "\n",
    "\n",
    "# dbfile = open('examplePickle', 'rb')      \n",
    "#     db = pickle.load(dbfile) \n",
    "#     for keys in db: \n",
    "#         print(keys, '=>', db[keys]) \n",
    "#     dbfile.close() "
   ]
  },
  {
   "cell_type": "code",
   "execution_count": null,
   "metadata": {},
   "outputs": [],
   "source": [
    "#example\n",
    "tweetCriteria = got.manager.TweetCriteria().setQuerySearch('ethereum OR ETH')\\\n",
    "                                            .setSince(\"2018-01-01\")\\\n",
    "                                            .setUntil(\"2018-12-31\")\\\n",
    "                                            .setMaxTweets(10000)\\\n",
    "                                            .setUsername(\"rogerkver\")\n",
    "\n",
    "\n",
    "tweets = got.manager.TweetManager.getTweets(tweetCriteria)\n",
    "print(f\"Count: {len(tweets)}\")"
   ]
  },
  {
   "cell_type": "code",
   "execution_count": null,
   "metadata": {},
   "outputs": [],
   "source": [
    "# example usage of func\n",
    "myT = getTweets(cryptoAliases['BTC'],\"2018-01-01\",\"2018-01-30\",10000,twitterUsers[0])"
   ]
  }
 ],
 "metadata": {
  "kernelspec": {
   "display_name": "Python 3",
   "language": "python",
   "name": "python3"
  },
  "language_info": {
   "codemirror_mode": {
    "name": "ipython",
    "version": 3
   },
   "file_extension": ".py",
   "mimetype": "text/x-python",
   "name": "python",
   "nbconvert_exporter": "python",
   "pygments_lexer": "ipython3",
   "version": "3.7.4"
  }
 },
 "nbformat": 4,
 "nbformat_minor": 2
}
